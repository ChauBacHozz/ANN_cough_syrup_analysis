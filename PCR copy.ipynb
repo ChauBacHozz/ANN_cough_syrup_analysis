{
 "cells": [
  {
   "cell_type": "markdown",
   "id": "5a016e65",
   "metadata": {},
   "source": [
    "### Import data and libraries"
   ]
  },
  {
   "cell_type": "code",
   "execution_count": 979,
   "id": "8336af28",
   "metadata": {},
   "outputs": [],
   "source": [
    "import numpy as np\n",
    "import pickle\n",
    "import pandas as pd\n",
    "import matplotlib.pyplot as plt\n",
    "import ANN_pkg_2\n",
    "from sklearn.preprocessing import scale \n",
    "from sklearn.linear_model import LinearRegression, Ridge, RidgeCV, Lasso, LassoCV\n",
    "from sklearn.model_selection import KFold, cross_val_score, train_test_split\n",
    "from sklearn.metrics import mean_squared_error\n",
    "from sklearn.decomposition import PCA\n",
    "from sklearn.metrics import r2_score"
   ]
  },
  {
   "attachments": {},
   "cell_type": "markdown",
   "id": "d6c4a18f",
   "metadata": {},
   "source": [
    "### DATA PREPARATION "
   ]
  },
  {
   "cell_type": "code",
   "execution_count": 980,
   "id": "b4ef0d70",
   "metadata": {},
   "outputs": [],
   "source": [
    "df = pd.read_excel('mtnd.xlsx').values\n",
    "# df.head(5)"
   ]
  },
  {
   "cell_type": "code",
   "execution_count": 981,
   "metadata": {},
   "outputs": [
    {
     "data": {
      "text/plain": [
       "(162, 35)"
      ]
     },
     "execution_count": 981,
     "metadata": {},
     "output_type": "execute_result"
    }
   ],
   "source": [
    "df.shape"
   ]
  },
  {
   "cell_type": "code",
   "execution_count": 982,
   "id": "76fc452b",
   "metadata": {},
   "outputs": [],
   "source": [
    "X = df[:, 4:]\n",
    "y = df[:, 1:4]\n",
    "#Scale concentration columns\n",
    "y = y / 10"
   ]
  },
  {
   "cell_type": "code",
   "execution_count": 983,
   "id": "7f8a1305",
   "metadata": {},
   "outputs": [
    {
     "data": {
      "text/plain": [
       "array([1.52691358, 1.57777778, 1.34222222])"
      ]
     },
     "execution_count": 983,
     "metadata": {},
     "output_type": "execute_result"
    }
   ],
   "source": [
    "np.mean(y, axis=0)"
   ]
  },
  {
   "cell_type": "markdown",
   "id": "414962ae",
   "metadata": {},
   "source": [
    "#### Train test split"
   ]
  },
  {
   "cell_type": "code",
   "execution_count": 984,
   "id": "2b42fcf2",
   "metadata": {},
   "outputs": [],
   "source": [
    "X_train, X_test, y_train, y_test = train_test_split(X, y, test_size=0.2, random_state=24)"
   ]
  },
  {
   "cell_type": "code",
   "execution_count": 985,
   "id": "d1c469d3",
   "metadata": {},
   "outputs": [],
   "source": [
    "# Run standardization on X variables\n",
    "from sklearn.preprocessing import scale \n",
    "X_train_scaled, X_test_scaled = scale(X_train), scale(X_test)"
   ]
  },
  {
   "cell_type": "markdown",
   "id": "5e230eef",
   "metadata": {},
   "source": [
    "___\n",
    "### Principal Components Regression"
   ]
  },
  {
   "cell_type": "markdown",
   "id": "a742cc4a",
   "metadata": {},
   "source": [
    "#### Evaluate for different number of principal components"
   ]
  },
  {
   "cell_type": "code",
   "execution_count": 986,
   "id": "900cf52f",
   "metadata": {},
   "outputs": [],
   "source": [
    "rmse_list = []\n",
    "R2_list = []"
   ]
  },
  {
   "cell_type": "code",
   "execution_count": 987,
   "id": "876ec69f",
   "metadata": {},
   "outputs": [
    {
     "data": {
      "text/plain": [
       "(129, 31)"
      ]
     },
     "execution_count": 987,
     "metadata": {},
     "output_type": "execute_result"
    }
   ],
   "source": [
    "# First generate all the principal components\n",
    "pca = PCA()\n",
    "X_train_pc = pca.fit_transform(X_train_scaled)\n",
    "X_train_pc.shape"
   ]
  },
  {
   "cell_type": "code",
   "execution_count": 988,
   "id": "1ca83e36",
   "metadata": {},
   "outputs": [
    {
     "data": {
      "text/html": [
       "<div>\n",
       "<style scoped>\n",
       "    .dataframe tbody tr th:only-of-type {\n",
       "        vertical-align: middle;\n",
       "    }\n",
       "\n",
       "    .dataframe tbody tr th {\n",
       "        vertical-align: top;\n",
       "    }\n",
       "\n",
       "    .dataframe thead th {\n",
       "        text-align: right;\n",
       "    }\n",
       "</style>\n",
       "<table border=\"1\" class=\"dataframe\">\n",
       "  <thead>\n",
       "    <tr style=\"text-align: right;\">\n",
       "      <th></th>\n",
       "      <th>0</th>\n",
       "      <th>1</th>\n",
       "      <th>2</th>\n",
       "      <th>3</th>\n",
       "      <th>4</th>\n",
       "      <th>5</th>\n",
       "      <th>6</th>\n",
       "      <th>7</th>\n",
       "      <th>8</th>\n",
       "      <th>9</th>\n",
       "      <th>...</th>\n",
       "      <th>21</th>\n",
       "      <th>22</th>\n",
       "      <th>23</th>\n",
       "      <th>24</th>\n",
       "      <th>25</th>\n",
       "      <th>26</th>\n",
       "      <th>27</th>\n",
       "      <th>28</th>\n",
       "      <th>29</th>\n",
       "      <th>30</th>\n",
       "    </tr>\n",
       "  </thead>\n",
       "  <tbody>\n",
       "    <tr>\n",
       "      <th>0</th>\n",
       "      <td>-0.161106</td>\n",
       "      <td>0.330797</td>\n",
       "      <td>-0.326935</td>\n",
       "      <td>-0.486897</td>\n",
       "      <td>-0.151130</td>\n",
       "      <td>0.119350</td>\n",
       "      <td>-0.142854</td>\n",
       "      <td>0.239412</td>\n",
       "      <td>0.057006</td>\n",
       "      <td>-0.184004</td>\n",
       "      <td>...</td>\n",
       "      <td>-0.018465</td>\n",
       "      <td>0.055361</td>\n",
       "      <td>-0.030406</td>\n",
       "      <td>-0.010044</td>\n",
       "      <td>0.019278</td>\n",
       "      <td>-0.023576</td>\n",
       "      <td>0.090819</td>\n",
       "      <td>-0.005862</td>\n",
       "      <td>0.020718</td>\n",
       "      <td>0.005703</td>\n",
       "    </tr>\n",
       "    <tr>\n",
       "      <th>1</th>\n",
       "      <td>-0.166587</td>\n",
       "      <td>0.301001</td>\n",
       "      <td>-0.277475</td>\n",
       "      <td>-0.272572</td>\n",
       "      <td>-0.060239</td>\n",
       "      <td>0.066941</td>\n",
       "      <td>-0.007926</td>\n",
       "      <td>0.019863</td>\n",
       "      <td>-0.019579</td>\n",
       "      <td>0.565564</td>\n",
       "      <td>...</td>\n",
       "      <td>-0.011721</td>\n",
       "      <td>0.082841</td>\n",
       "      <td>-0.003358</td>\n",
       "      <td>-0.043661</td>\n",
       "      <td>-0.006329</td>\n",
       "      <td>0.049049</td>\n",
       "      <td>-0.081773</td>\n",
       "      <td>0.051602</td>\n",
       "      <td>0.036354</td>\n",
       "      <td>0.011754</td>\n",
       "    </tr>\n",
       "    <tr>\n",
       "      <th>2</th>\n",
       "      <td>-0.171623</td>\n",
       "      <td>0.268154</td>\n",
       "      <td>-0.224052</td>\n",
       "      <td>-0.085860</td>\n",
       "      <td>0.043268</td>\n",
       "      <td>0.059660</td>\n",
       "      <td>0.063906</td>\n",
       "      <td>-0.028104</td>\n",
       "      <td>-0.013635</td>\n",
       "      <td>-0.316649</td>\n",
       "      <td>...</td>\n",
       "      <td>0.033349</td>\n",
       "      <td>-0.057389</td>\n",
       "      <td>0.022163</td>\n",
       "      <td>0.053027</td>\n",
       "      <td>0.009568</td>\n",
       "      <td>-0.019890</td>\n",
       "      <td>-0.042240</td>\n",
       "      <td>0.019418</td>\n",
       "      <td>-0.092942</td>\n",
       "      <td>0.003750</td>\n",
       "    </tr>\n",
       "  </tbody>\n",
       "</table>\n",
       "<p>3 rows × 31 columns</p>\n",
       "</div>"
      ],
      "text/plain": [
       "         0         1         2         3         4         5         6   \\\n",
       "0 -0.161106  0.330797 -0.326935 -0.486897 -0.151130  0.119350 -0.142854   \n",
       "1 -0.166587  0.301001 -0.277475 -0.272572 -0.060239  0.066941 -0.007926   \n",
       "2 -0.171623  0.268154 -0.224052 -0.085860  0.043268  0.059660  0.063906   \n",
       "\n",
       "         7         8         9   ...        21        22        23        24  \\\n",
       "0  0.239412  0.057006 -0.184004  ... -0.018465  0.055361 -0.030406 -0.010044   \n",
       "1  0.019863 -0.019579  0.565564  ... -0.011721  0.082841 -0.003358 -0.043661   \n",
       "2 -0.028104 -0.013635 -0.316649  ...  0.033349 -0.057389  0.022163  0.053027   \n",
       "\n",
       "         25        26        27        28        29        30  \n",
       "0  0.019278 -0.023576  0.090819 -0.005862  0.020718  0.005703  \n",
       "1 -0.006329  0.049049 -0.081773  0.051602  0.036354  0.011754  \n",
       "2  0.009568 -0.019890 -0.042240  0.019418 -0.092942  0.003750  \n",
       "\n",
       "[3 rows x 31 columns]"
      ]
     },
     "execution_count": 988,
     "metadata": {},
     "output_type": "execute_result"
    }
   ],
   "source": [
    "# View first 5 rows of all principal components\n",
    "pd.DataFrame(pca.components_.T).loc[:2,:]"
   ]
  },
  {
   "cell_type": "code",
   "execution_count": 989,
   "id": "1556bfa8",
   "metadata": {},
   "outputs": [],
   "source": [
    "cv = KFold(n_splits=10, shuffle=True, random_state=42)"
   ]
  },
  {
   "cell_type": "code",
   "execution_count": 990,
   "id": "7eb75aad",
   "metadata": {},
   "outputs": [],
   "source": [
    "# Loop through different count of principal components for linear regression\n",
    "for i in range(1, X_train_pc.shape[1]+1):\n",
    "    # rmse_score = -1 * cross_val_score(lin_reg, \n",
    "    #                                   X_train_pc[:,:i], # Use first k principal components\n",
    "    #                                   y_train, \n",
    "    #                                   cv=cv, \n",
    "    #                                   scoring='neg_mean_squared_error').mean()\n",
    "    # rmse_list.append(rmse_score)\n",
    "    lin_reg = LinearRegression()\n",
    "    lin_reg.fit(X_train_pc[:, :i], y_train)\n",
    "    y_pred = lin_reg.predict(X_train_pc[:, :i])\n",
    "    rmse_list.append(np.sqrt(np.sum(np.square(y_pred - y_train), axis=0) / y_train.shape[0]))\n",
    "    R2_list.append(r2_score(y_train, y_pred))"
   ]
  },
  {
   "cell_type": "code",
   "execution_count": 991,
   "id": "04b6abd6",
   "metadata": {},
   "outputs": [
    {
     "data": {
      "text/plain": [
       "(31, 3)"
      ]
     },
     "execution_count": 991,
     "metadata": {},
     "output_type": "execute_result"
    }
   ],
   "source": [
    "rmse_list=np.array(rmse_list)\n",
    "R2_list = np.array(R2_list).reshape(-1,1)\n",
    "rmse_list.shape"
   ]
  },
  {
   "cell_type": "code",
   "execution_count": 992,
   "id": "138523e5",
   "metadata": {},
   "outputs": [
    {
     "data": {
      "text/plain": [
       "(25, 1)"
      ]
     },
     "execution_count": 992,
     "metadata": {},
     "output_type": "execute_result"
    }
   ],
   "source": [
    "R2_list[6:,:].shape"
   ]
  },
  {
   "cell_type": "code",
   "execution_count": 993,
   "id": "5958066d",
   "metadata": {},
   "outputs": [
    {
     "data": {
      "image/png": "[encoded data removed]",
      "text/plain": [
       "<Figure size 432x288 with 1 Axes>"
      ]
     },
     "metadata": {
      "needs_background": "light"
     },
     "output_type": "display_data"
    }
   ],
   "source": [
    "plt.plot(np.arange(6,31),R2_list[6:,:], \"-o\", color = \"black\")\n",
    "plt.xticks(np.arange(6,32, 5))\n",
    "plt.xlabel(\"Number of PC\")\n",
    "plt.ylabel(\"R square value\")\n",
    "plt.show()"
   ]
  },
  {
   "cell_type": "code",
   "execution_count": 994,
   "id": "b2c4771c",
   "metadata": {
    "scrolled": true
   },
   "outputs": [
    {
     "data": {
      "image/png": "[encoded data removed]",
      "text/plain": [
       "<Figure size 432x288 with 1 Axes>"
      ]
     },
     "metadata": {
      "needs_background": "light"
     },
     "output_type": "display_data"
    }
   ],
   "source": [
    "# Plot RMSE vs count of principal components used\n",
    "plt.plot(rmse_list[:,0], '-^', label='Guaifenesin', color='black')\n",
    "plt.plot(rmse_list[:,1], '-o', label='Terbutaline Sulphate', color='black')\n",
    "plt.plot(rmse_list[:,2], '-s', label='Natri benzoate', color='black')\n",
    "plt.xlabel('Number of principal components in regression')\n",
    "plt.ylabel('Cross-Validation RMSE')\n",
    "plt.title('PCR')\n",
    "plt.xlim(xmin=-1)\n",
    "plt.xticks(np.arange(X_train_pc.shape[1], step=5), np.arange(1, X_train_pc.shape[1]+1, step=5))\n",
    "plt.legend()\n",
    "plt.show()"
   ]
  },
  {
   "cell_type": "code",
   "execution_count": 995,
   "id": "8075d7d3",
   "metadata": {},
   "outputs": [
    {
     "data": {
      "image/png": "[encoded data removed]",
      "text/plain": [
       "<Figure size 432x288 with 1 Axes>"
      ]
     },
     "metadata": {
      "needs_background": "light"
     },
     "output_type": "display_data"
    }
   ],
   "source": [
    "# Plot RMSE vs count of principal components used\n",
    "plt.plot(np.arange(6, 31),rmse_list[6:,:], '-o')\n",
    "plt.plot(np.arange(6, 31),rmse_list[6:,0], '-o', label='Guaifenesin', color='red')\n",
    "plt.plot(np.arange(6, 31),rmse_list[6:,1], '-o', label='Terbutaline Sulphate', color='blue')\n",
    "plt.plot(np.arange(6, 31),rmse_list[6:,2], '-o', label='Natri benzoate', color='Green')\n",
    "plt.xlabel('Number of principal components in regression')\n",
    "plt.ylabel('Cross-Validation RMSE')\n",
    "plt.title('PCR')\n",
    "# plt.xticks(np.arange(6, 31, step=5))\n",
    "plt.legend()\n",
    "# plt.xticks(np.arange(X_train_pc.shape[1] - 6), np.arange(1, X_train_pc.shape[1] - 6))\n",
    "plt.show()"
   ]
  },
  {
   "cell_type": "code",
   "execution_count": 996,
   "id": "45fa00ad",
   "metadata": {},
   "outputs": [],
   "source": [
    "rmse_list = rmse_list.mean(axis=1)"
   ]
  },
  {
   "cell_type": "code",
   "execution_count": 997,
   "id": "22f7fed1",
   "metadata": {},
   "outputs": [
    {
     "data": {
      "text/plain": [
       "(0.095504861796733, 30)"
      ]
     },
     "execution_count": 997,
     "metadata": {},
     "output_type": "execute_result"
    }
   ],
   "source": [
    "(value,min_index) = min((v,i) for i,v in enumerate(list(rmse_list)))\n",
    "value, min_index"
   ]
  },
  {
   "cell_type": "code",
   "execution_count": 998,
   "id": "2496f10d",
   "metadata": {},
   "outputs": [],
   "source": [
    "# Visually determine optimal number of principal components\n",
    "best_pc_num = min_index + 1"
   ]
  },
  {
   "cell_type": "markdown",
   "id": "e3a5900b",
   "metadata": {},
   "source": [
    "#### Predict"
   ]
  },
  {
   "cell_type": "code",
   "execution_count": 999,
   "id": "6ce87168",
   "metadata": {},
   "outputs": [],
   "source": [
    "# Train model on training set\n",
    "lin_reg_pc = LinearRegression().fit(X_train_pc[:,:best_pc_num], y_train)"
   ]
  },
  {
   "cell_type": "code",
   "execution_count": 1000,
   "id": "36a4a99c",
   "metadata": {},
   "outputs": [
    {
     "data": {
      "text/plain": [
       "(129, 31)"
      ]
     },
     "execution_count": 1000,
     "metadata": {},
     "output_type": "execute_result"
    }
   ],
   "source": [
    "X_train_pc[:,:best_pc_num+1].shape"
   ]
  },
  {
   "cell_type": "code",
   "execution_count": 1001,
   "id": "6e785273",
   "metadata": {},
   "outputs": [
    {
     "name": "stdout",
     "output_type": "stream",
     "text": [
      "(129, 31) (129, 3)\n"
     ]
    }
   ],
   "source": [
    "print(X_train_pc.shape, y_train.shape)"
   ]
  },
  {
   "cell_type": "code",
   "execution_count": 1002,
   "id": "3b389700",
   "metadata": {},
   "outputs": [
    {
     "data": {
      "text/plain": [
       "0.9865089488591052"
      ]
     },
     "execution_count": 1002,
     "metadata": {},
     "output_type": "execute_result"
    }
   ],
   "source": [
    "# R2 score\n",
    "lin_reg_pc.score(X_train_pc[:,:best_pc_num], y_train)"
   ]
  },
  {
   "cell_type": "code",
   "execution_count": 1003,
   "id": "204c5174",
   "metadata": {},
   "outputs": [
    {
     "data": {
      "text/plain": [
       "(33, 31)"
      ]
     },
     "execution_count": 1003,
     "metadata": {},
     "output_type": "execute_result"
    }
   ],
   "source": [
    "X_test_scaled.shape"
   ]
  },
  {
   "cell_type": "code",
   "execution_count": 1004,
   "id": "f1b2280f",
   "metadata": {},
   "outputs": [
    {
     "data": {
      "text/plain": [
       "31"
      ]
     },
     "execution_count": 1004,
     "metadata": {},
     "output_type": "execute_result"
    }
   ],
   "source": [
    "best_pc_num"
   ]
  },
  {
   "cell_type": "code",
   "execution_count": 1005,
   "id": "2a98f2c7",
   "metadata": {},
   "outputs": [
    {
     "data": {
      "text/plain": [
       "(33, 31)"
      ]
     },
     "execution_count": 1005,
     "metadata": {},
     "output_type": "execute_result"
    }
   ],
   "source": [
    "# Get principal components of test set\n",
    "pca = PCA()\n",
    "X_test_pc = pca.fit_transform(X_test_scaled)[:,:best_pc_num]\n",
    "X_test_pc.shape\n"
   ]
  },
  {
   "cell_type": "code",
   "execution_count": 1006,
   "id": "7b599740",
   "metadata": {},
   "outputs": [
    {
     "data": {
      "text/plain": [
       "0.4283085390575095"
      ]
     },
     "execution_count": 1006,
     "metadata": {},
     "output_type": "execute_result"
    }
   ],
   "source": [
    "# Predict on test data\n",
    "PCR_preds = lin_reg_pc.predict(X_test_pc)\n",
    "pcr_score_test = np.sqrt(np.sum(np.square(PCR_preds - y_test), axis=0) / y_train.shape[0])\n",
    "pcr_score_test.mean()"
   ]
  },
  {
   "cell_type": "code",
   "execution_count": 1007,
   "id": "ecd69fb3",
   "metadata": {},
   "outputs": [
    {
     "data": {
      "text/plain": [
       "(33, 3)"
      ]
     },
     "execution_count": 1007,
     "metadata": {},
     "output_type": "execute_result"
    }
   ],
   "source": [
    "PCR_preds.shape"
   ]
  },
  {
   "cell_type": "code",
   "execution_count": 1008,
   "id": "3f7ae5f0",
   "metadata": {},
   "outputs": [],
   "source": [
    "# preds = lin_reg_pc.predict(X_train_pc)\n",
    "# pcr_score_train = np.sqrt(np.sum(np.square(preds - y_test), axis=0) / y_train.shape[0])\n",
    "# pcr_score_train.mean()"
   ]
  },
  {
   "cell_type": "code",
   "execution_count": 1009,
   "id": "a692b285",
   "metadata": {},
   "outputs": [
    {
     "data": {
      "text/plain": [
       "(11, 11)"
      ]
     },
     "execution_count": 1009,
     "metadata": {},
     "output_type": "execute_result"
    }
   ],
   "source": [
    "mauthuoc = pd.read_excel(\"mauthuoc.xlsx\")\n",
    "mauthuoc = scale(mauthuoc.iloc[:,1:].values)\n",
    "mauthuoc = pca.fit_transform(mauthuoc)\n",
    "# lin_reg_pc.predict(mauthuoc)\n",
    "mauthuoc.shape"
   ]
  },
  {
   "attachments": {},
   "cell_type": "markdown",
   "id": "23e06aa8",
   "metadata": {},
   "source": [
    "## ANN IMPLEMENT"
   ]
  },
  {
   "cell_type": "code",
   "execution_count": 1010,
   "id": "c4724e0d",
   "metadata": {},
   "outputs": [],
   "source": [
    "X_train, X_val, y_train, y_val = train_test_split(X_train_pc, y_train, test_size=0.1, random_state=42)\n",
    "# X_train_scaled = scale(X_train).T\n",
    "# X_val_scaled = scale(X_val).T\n",
    "# X_test_scaled = scale(X_test).T\n",
    "X_train = X_train.T\n",
    "X_test = X_test_pc.T\n",
    "X_val = X_val.T\n",
    "y_train = y_train.T\n",
    "y_test = y_test.T\n",
    "y_val = y_val.T"
   ]
  },
  {
   "cell_type": "code",
   "execution_count": 1011,
   "id": "e6fed18e",
   "metadata": {},
   "outputs": [],
   "source": [
    "# model = ANN_pkg_2.Neural_Network([X_train.shape[0],8, 8,y_train.shape[0]], ANN_pkg_2.ReLU, weights, bias)\n",
    "model = ANN_pkg_2.Neural_Network([X_train.shape[0],10, 10,y_train.shape[0]], ANN_pkg_2.ReLU)"
   ]
  },
  {
   "cell_type": "code",
   "execution_count": 1012,
   "id": "6f2647b4",
   "metadata": {},
   "outputs": [],
   "source": [
    "epochs = 230000"
   ]
  },
  {
   "cell_type": "code",
   "execution_count": 1013,
   "id": "9cad67fe",
   "metadata": {},
   "outputs": [
    {
     "name": "stdout",
     "output_type": "stream",
     "text": [
      "Loading 10.0%\n",
      "Loading 20.0%\n",
      "Loading 30.0%\n",
      "Loading 40.0%\n",
      "Loading 50.0%\n",
      "Loading 60.0%\n",
      "Loading 70.0%\n",
      "Loading 80.0%\n",
      "Loading 90.0%\n",
      "Loading 100.0%\n",
      "Learning process completed!!!\n"
     ]
    }
   ],
   "source": [
    "model.fit(X_train, y_train, X_test, y_test, learning_rate = 0.001, alpha = 0.000005, epochs = epochs, lr_down=True, lr_decay=100)\n"
   ]
  },
  {
   "cell_type": "code",
   "execution_count": 1014,
   "id": "2f38c356",
   "metadata": {},
   "outputs": [
    {
     "data": {
      "text/plain": [
       "<matplotlib.legend.Legend at 0x1f62ce3c1c0>"
      ]
     },
     "execution_count": 1014,
     "metadata": {},
     "output_type": "execute_result"
    },
    {
     "data": {
      "image/png": "[encoded data removed]",
      "text/plain": [
       "<Figure size 432x288 with 1 Axes>"
      ]
     },
     "metadata": {
      "needs_background": "light"
     },
     "output_type": "display_data"
    }
   ],
   "source": [
    "plt.plot(np.sqrt(model.cost_his), label = \"Train data loss\", color = \"black\")\n",
    "plt.plot(np.sqrt(model.test_cost_his), label = \"Test data loss\", color = \"gray\")\n",
    "# plt.xticks(np.arange(epo))\n",
    "plt.xlabel(\"Number of epochs\")  \n",
    "plt.ylabel(\"RMSE value\")\n",
    "plt.legend(loc=\"upper right\")"
   ]
  },
  {
   "cell_type": "code",
   "execution_count": 1015,
   "id": "3bce2d39",
   "metadata": {},
   "outputs": [
    {
     "name": "stdout",
     "output_type": "stream",
     "text": [
      "0.24088761578959417\n",
      "1.5931221105298015\n"
     ]
    }
   ],
   "source": [
    "print(np.sqrt(model.cost_his[-1]))\n",
    "print(np.sqrt(model.test_cost_his[-1]))"
   ]
  },
  {
   "cell_type": "code",
   "execution_count": 1016,
   "id": "1f1dc0e3",
   "metadata": {},
   "outputs": [
    {
     "data": {
      "text/plain": [
       "(31, 33)"
      ]
     },
     "execution_count": 1016,
     "metadata": {},
     "output_type": "execute_result"
    }
   ],
   "source": [
    "X_test.shape"
   ]
  },
  {
   "cell_type": "code",
   "execution_count": 1017,
   "id": "9fb99e02",
   "metadata": {},
   "outputs": [
    {
     "data": {
      "image/png": "[encoded data removed]",
      "text/plain": [
       "<Figure size 432x288 with 1 Axes>"
      ]
     },
     "metadata": {
      "needs_background": "light"
     },
     "output_type": "display_data"
    }
   ],
   "source": [
    "ANN_pred = model.forward(X_test)\n",
    "plt.plot(ANN_pred[0,:].T, y_test[0,:].T, \"^\", label = \"Guaifenesin\", color = \"black\", fillstyle='none')\n",
    "plt.plot(ANN_pred[1,:].T, y_test[1,:].T, \"o\", label = \"Terbutaline Sulfate\", color = \"black\", fillstyle='none')\n",
    "plt.plot(ANN_pred[2,:].T, y_test[2,:].T, \"s\", label = \"Natri benzoate\", color = \"black\", fillstyle='none')\n",
    "plt.legend(bbox_to_anchor=(1, 1))\n",
    "plt.xlabel(\"Test data\")\n",
    "plt.ylabel(\"Predict data\")\n",
    "plt.xticks(np.arange(3.5, step=0.5))\n",
    "plt.yticks(np.arange(3.5, step=0.5))\n",
    "ax = plt.gca()\n",
    "ax.set_aspect('equal', adjustable='box')\n",
    "ax.plot([0, 1], [0, 1], transform=ax.transAxes, color = \"black\")\n",
    "plt.title(f\"Test - R square = {r2_score(y_test.T, ANN_pred.T)}\")\n",
    "plt.show()"
   ]
  },
  {
   "cell_type": "code",
   "execution_count": 1018,
   "id": "7577aed5",
   "metadata": {},
   "outputs": [
    {
     "data": {
      "image/png": "[encoded data removed]",
      "text/plain": [
       "<Figure size 432x288 with 1 Axes>"
      ]
     },
     "metadata": {
      "needs_background": "light"
     },
     "output_type": "display_data"
    }
   ],
   "source": [
    "y_pred = model.forward(X_train)\n",
    "# y_train.shape\n",
    "plt.plot(y_pred[0,:].T, y_train[0,:].T, \"^\", label = \"Guaifenesin\", color = \"black\", fillstyle='none')\n",
    "plt.plot(y_pred[1,:].T, y_train[1,:].T, \"o\", label = \"Terbutaline Sulfate\", color = \"black\", fillstyle='none')\n",
    "plt.plot(y_pred[2,:].T, y_train[2,:].T, \"s\", label = \"Natri benzoate\", color = \"black\", fillstyle='none')\n",
    "plt.legend(bbox_to_anchor=(1, 1))\n",
    "plt.xlabel(\"Train data\")\n",
    "plt.ylabel(\"Predict data\")\n",
    "plt.xticks(np.arange(3.5, step=0.5))\n",
    "plt.yticks(np.arange(3.5, step=0.5))\n",
    "ax = plt.gca()\n",
    "ax.set_aspect('equal', adjustable='box')\n",
    "ax.plot([0, 1], [0, 1], transform=ax.transAxes, color = \"black\")\n",
    "plt.title(f\"Train - R square = {r2_score(y_train.T, y_pred.T)}\")\n",
    "plt.show()"
   ]
  },
  {
   "cell_type": "code",
   "execution_count": 1019,
   "id": "c72ce4d6",
   "metadata": {},
   "outputs": [
    {
     "data": {
      "image/png": "[encoded data removed]",
      "text/plain": [
       "<Figure size 432x288 with 1 Axes>"
      ]
     },
     "metadata": {
      "needs_background": "light"
     },
     "output_type": "display_data"
    }
   ],
   "source": [
    "y_pred = model.forward(X_val)\n",
    "# y_train.shape\n",
    "plt.plot(y_pred[0,:].T, y_val[0,:].T, \"^\", label = \"Guaifenesin\", color = \"black\", fillstyle='none')\n",
    "plt.plot(y_pred[1,:].T, y_val[1,:].T, \"o\", label = \"Terbutaline Sulfate\", color = \"black\", fillstyle='none')\n",
    "plt.plot(y_pred[2,:].T, y_val[2,:].T, \"s\", label = \"Natri benzoate\", color = \"black\", fillstyle='none')\n",
    "plt.legend(bbox_to_anchor=(1, 1))\n",
    "plt.xlabel(\"Validation data\")\n",
    "plt.ylabel(\"Predict data\")\n",
    "plt.xticks(np.arange(3.5, step=0.5))\n",
    "plt.yticks(np.arange(3.5, step=0.5))\n",
    "ax = plt.gca()\n",
    "ax.set_aspect('equal', adjustable='box')\n",
    "ax.plot([0, 1], [0, 1], transform=ax.transAxes, color = \"black\")\n",
    "plt.title(f\"Validate - R square = {r2_score(y_val.T, y_pred.T)}\")\n",
    "plt.show()"
   ]
  },
  {
   "cell_type": "code",
   "execution_count": 1020,
   "id": "af1e870c",
   "metadata": {},
   "outputs": [
    {
     "data": {
      "text/plain": [
       "(31, 11)"
      ]
     },
     "execution_count": 1020,
     "metadata": {},
     "output_type": "execute_result"
    }
   ],
   "source": [
    "mauthuoc = pd.read_excel(\"mauthuoc.xlsx\")\n",
    "mauthuoc = mauthuoc.iloc[:,1:].values\n",
    "mauthuoc = mauthuoc.T\n",
    "mauthuoc.shape"
   ]
  },
  {
   "cell_type": "code",
   "execution_count": 1021,
   "id": "0318e7cc",
   "metadata": {},
   "outputs": [
    {
     "ename": "ValueError",
     "evalue": "X has 11 features, but PCA is expecting 31 features as input.",
     "output_type": "error",
     "traceback": [
      "\u001b[1;31m---------------------------------------------------------------------------\u001b[0m",
      "\u001b[1;31mValueError\u001b[0m                                Traceback (most recent call last)",
      "\u001b[1;32mc:\\VS_Workspace\\PCR\\PCR copy.ipynb Cell 50\u001b[0m in \u001b[0;36m<cell line: 1>\u001b[1;34m()\u001b[0m\n\u001b[1;32m----> <a href='vscode-notebook-cell:/c%3A/VS_Workspace/PCR/PCR%20copy.ipynb#X64sZmlsZQ%3D%3D?line=0'>1</a>\u001b[0m model\u001b[39m.\u001b[39mforward(pca\u001b[39m.\u001b[39;49mtransform(mauthuoc))\u001b[39m.\u001b[39mT[:\u001b[39m20\u001b[39m, :] \u001b[39m*\u001b[39m \u001b[39m10\u001b[39m\n",
      "File \u001b[1;32mc:\\Users\\84866\\AppData\\Local\\Programs\\Python\\Python310\\lib\\site-packages\\sklearn\\decomposition\\_base.py:120\u001b[0m, in \u001b[0;36m_BasePCA.transform\u001b[1;34m(self, X)\u001b[0m\n\u001b[0;32m    101\u001b[0m \u001b[39m\"\"\"Apply dimensionality reduction to X.\u001b[39;00m\n\u001b[0;32m    102\u001b[0m \n\u001b[0;32m    103\u001b[0m \u001b[39mX is projected on the first principal components previously extracted\u001b[39;00m\n\u001b[1;32m   (...)\u001b[0m\n\u001b[0;32m    116\u001b[0m \u001b[39m    is the number of samples and `n_components` is the number of the components.\u001b[39;00m\n\u001b[0;32m    117\u001b[0m \u001b[39m\"\"\"\u001b[39;00m\n\u001b[0;32m    118\u001b[0m check_is_fitted(\u001b[39mself\u001b[39m)\n\u001b[1;32m--> 120\u001b[0m X \u001b[39m=\u001b[39m \u001b[39mself\u001b[39;49m\u001b[39m.\u001b[39;49m_validate_data(X, dtype\u001b[39m=\u001b[39;49m[np\u001b[39m.\u001b[39;49mfloat64, np\u001b[39m.\u001b[39;49mfloat32], reset\u001b[39m=\u001b[39;49m\u001b[39mFalse\u001b[39;49;00m)\n\u001b[0;32m    121\u001b[0m \u001b[39mif\u001b[39;00m \u001b[39mself\u001b[39m\u001b[39m.\u001b[39mmean_ \u001b[39mis\u001b[39;00m \u001b[39mnot\u001b[39;00m \u001b[39mNone\u001b[39;00m:\n\u001b[0;32m    122\u001b[0m     X \u001b[39m=\u001b[39m X \u001b[39m-\u001b[39m \u001b[39mself\u001b[39m\u001b[39m.\u001b[39mmean_\n",
      "File \u001b[1;32mc:\\Users\\84866\\AppData\\Local\\Programs\\Python\\Python310\\lib\\site-packages\\sklearn\\base.py:600\u001b[0m, in \u001b[0;36mBaseEstimator._validate_data\u001b[1;34m(self, X, y, reset, validate_separately, **check_params)\u001b[0m\n\u001b[0;32m    597\u001b[0m     out \u001b[39m=\u001b[39m X, y\n\u001b[0;32m    599\u001b[0m \u001b[39mif\u001b[39;00m \u001b[39mnot\u001b[39;00m no_val_X \u001b[39mand\u001b[39;00m check_params\u001b[39m.\u001b[39mget(\u001b[39m\"\u001b[39m\u001b[39mensure_2d\u001b[39m\u001b[39m\"\u001b[39m, \u001b[39mTrue\u001b[39;00m):\n\u001b[1;32m--> 600\u001b[0m     \u001b[39mself\u001b[39;49m\u001b[39m.\u001b[39;49m_check_n_features(X, reset\u001b[39m=\u001b[39;49mreset)\n\u001b[0;32m    602\u001b[0m \u001b[39mreturn\u001b[39;00m out\n",
      "File \u001b[1;32mc:\\Users\\84866\\AppData\\Local\\Programs\\Python\\Python310\\lib\\site-packages\\sklearn\\base.py:400\u001b[0m, in \u001b[0;36mBaseEstimator._check_n_features\u001b[1;34m(self, X, reset)\u001b[0m\n\u001b[0;32m    397\u001b[0m     \u001b[39mreturn\u001b[39;00m\n\u001b[0;32m    399\u001b[0m \u001b[39mif\u001b[39;00m n_features \u001b[39m!=\u001b[39m \u001b[39mself\u001b[39m\u001b[39m.\u001b[39mn_features_in_:\n\u001b[1;32m--> 400\u001b[0m     \u001b[39mraise\u001b[39;00m \u001b[39mValueError\u001b[39;00m(\n\u001b[0;32m    401\u001b[0m         \u001b[39mf\u001b[39m\u001b[39m\"\u001b[39m\u001b[39mX has \u001b[39m\u001b[39m{\u001b[39;00mn_features\u001b[39m}\u001b[39;00m\u001b[39m features, but \u001b[39m\u001b[39m{\u001b[39;00m\u001b[39mself\u001b[39m\u001b[39m.\u001b[39m\u001b[39m__class__\u001b[39m\u001b[39m.\u001b[39m\u001b[39m__name__\u001b[39m\u001b[39m}\u001b[39;00m\u001b[39m \u001b[39m\u001b[39m\"\u001b[39m\n\u001b[0;32m    402\u001b[0m         \u001b[39mf\u001b[39m\u001b[39m\"\u001b[39m\u001b[39mis expecting \u001b[39m\u001b[39m{\u001b[39;00m\u001b[39mself\u001b[39m\u001b[39m.\u001b[39mn_features_in_\u001b[39m}\u001b[39;00m\u001b[39m features as input.\u001b[39m\u001b[39m\"\u001b[39m\n\u001b[0;32m    403\u001b[0m     )\n",
      "\u001b[1;31mValueError\u001b[0m: X has 11 features, but PCA is expecting 31 features as input."
     ]
    }
   ],
   "source": [
    "model.forward(pca.transform(mauthuoc)).T[:20, :] * 10\n",
    "# GF: 33.25\n",
    "# TBS: 0.75\n",
    "# NaB: 5"
   ]
  },
  {
   "cell_type": "code",
   "execution_count": null,
   "id": "7e2ad164",
   "metadata": {},
   "outputs": [
    {
     "data": {
      "text/html": [
       "<div>\n",
       "<style scoped>\n",
       "    .dataframe tbody tr th:only-of-type {\n",
       "        vertical-align: middle;\n",
       "    }\n",
       "\n",
       "    .dataframe tbody tr th {\n",
       "        vertical-align: top;\n",
       "    }\n",
       "\n",
       "    .dataframe thead th {\n",
       "        text-align: right;\n",
       "    }\n",
       "</style>\n",
       "<table border=\"1\" class=\"dataframe\">\n",
       "  <thead>\n",
       "    <tr style=\"text-align: right;\">\n",
       "      <th></th>\n",
       "      <th>0</th>\n",
       "      <th>1</th>\n",
       "      <th>2</th>\n",
       "      <th>3</th>\n",
       "      <th>4</th>\n",
       "      <th>5</th>\n",
       "      <th>6</th>\n",
       "      <th>7</th>\n",
       "      <th>8</th>\n",
       "    </tr>\n",
       "  </thead>\n",
       "  <tbody>\n",
       "    <tr>\n",
       "      <th>0</th>\n",
       "      <td>28.8</td>\n",
       "      <td>14.4</td>\n",
       "      <td>13.6</td>\n",
       "      <td>27.154503</td>\n",
       "      <td>14.223878</td>\n",
       "      <td>14.492896</td>\n",
       "      <td>26.844399</td>\n",
       "      <td>15.310112</td>\n",
       "      <td>13.863695</td>\n",
       "    </tr>\n",
       "    <tr>\n",
       "      <th>1</th>\n",
       "      <td>26.4</td>\n",
       "      <td>8.0</td>\n",
       "      <td>22.4</td>\n",
       "      <td>24.888995</td>\n",
       "      <td>8.759628</td>\n",
       "      <td>20.253365</td>\n",
       "      <td>26.694952</td>\n",
       "      <td>7.588084</td>\n",
       "      <td>18.285095</td>\n",
       "    </tr>\n",
       "    <tr>\n",
       "      <th>2</th>\n",
       "      <td>4.8</td>\n",
       "      <td>16.8</td>\n",
       "      <td>2.4</td>\n",
       "      <td>6.951401</td>\n",
       "      <td>13.489712</td>\n",
       "      <td>3.433338</td>\n",
       "      <td>8.035935</td>\n",
       "      <td>12.627659</td>\n",
       "      <td>3.675971</td>\n",
       "    </tr>\n",
       "    <tr>\n",
       "      <th>3</th>\n",
       "      <td>24.0</td>\n",
       "      <td>5.6</td>\n",
       "      <td>16.8</td>\n",
       "      <td>20.874936</td>\n",
       "      <td>6.340316</td>\n",
       "      <td>18.780720</td>\n",
       "      <td>20.073577</td>\n",
       "      <td>10.815329</td>\n",
       "      <td>21.250360</td>\n",
       "    </tr>\n",
       "    <tr>\n",
       "      <th>4</th>\n",
       "      <td>1.6</td>\n",
       "      <td>22.4</td>\n",
       "      <td>22.4</td>\n",
       "      <td>4.174863</td>\n",
       "      <td>17.749897</td>\n",
       "      <td>18.940935</td>\n",
       "      <td>3.991853</td>\n",
       "      <td>17.652900</td>\n",
       "      <td>19.199016</td>\n",
       "    </tr>\n",
       "    <tr>\n",
       "      <th>5</th>\n",
       "      <td>29.6</td>\n",
       "      <td>1.6</td>\n",
       "      <td>11.2</td>\n",
       "      <td>27.101543</td>\n",
       "      <td>20.317560</td>\n",
       "      <td>18.451793</td>\n",
       "      <td>26.132631</td>\n",
       "      <td>20.764829</td>\n",
       "      <td>18.471910</td>\n",
       "    </tr>\n",
       "    <tr>\n",
       "      <th>6</th>\n",
       "      <td>0.0</td>\n",
       "      <td>13.6</td>\n",
       "      <td>6.4</td>\n",
       "      <td>3.010675</td>\n",
       "      <td>8.823664</td>\n",
       "      <td>6.020386</td>\n",
       "      <td>4.548436</td>\n",
       "      <td>7.176881</td>\n",
       "      <td>6.776904</td>\n",
       "    </tr>\n",
       "    <tr>\n",
       "      <th>7</th>\n",
       "      <td>15.2</td>\n",
       "      <td>20.8</td>\n",
       "      <td>17.6</td>\n",
       "      <td>15.529830</td>\n",
       "      <td>15.920628</td>\n",
       "      <td>18.546304</td>\n",
       "      <td>15.206826</td>\n",
       "      <td>18.730206</td>\n",
       "      <td>19.537818</td>\n",
       "    </tr>\n",
       "    <tr>\n",
       "      <th>8</th>\n",
       "      <td>31.2</td>\n",
       "      <td>18.4</td>\n",
       "      <td>2.4</td>\n",
       "      <td>28.638177</td>\n",
       "      <td>17.297342</td>\n",
       "      <td>6.999802</td>\n",
       "      <td>27.949234</td>\n",
       "      <td>19.340318</td>\n",
       "      <td>4.652791</td>\n",
       "    </tr>\n",
       "    <tr>\n",
       "      <th>9</th>\n",
       "      <td>1.6</td>\n",
       "      <td>11.2</td>\n",
       "      <td>0.0</td>\n",
       "      <td>5.733288</td>\n",
       "      <td>3.387237</td>\n",
       "      <td>-0.077544</td>\n",
       "      <td>6.717855</td>\n",
       "      <td>3.303642</td>\n",
       "      <td>1.471152</td>\n",
       "    </tr>\n",
       "    <tr>\n",
       "      <th>10</th>\n",
       "      <td>11.2</td>\n",
       "      <td>28.8</td>\n",
       "      <td>18.4</td>\n",
       "      <td>12.460715</td>\n",
       "      <td>25.394296</td>\n",
       "      <td>17.144553</td>\n",
       "      <td>13.360688</td>\n",
       "      <td>25.002896</td>\n",
       "      <td>16.813886</td>\n",
       "    </tr>\n",
       "    <tr>\n",
       "      <th>11</th>\n",
       "      <td>18.4</td>\n",
       "      <td>13.6</td>\n",
       "      <td>8.0</td>\n",
       "      <td>19.237000</td>\n",
       "      <td>10.295183</td>\n",
       "      <td>7.812043</td>\n",
       "      <td>19.572168</td>\n",
       "      <td>9.906501</td>\n",
       "      <td>8.003661</td>\n",
       "    </tr>\n",
       "    <tr>\n",
       "      <th>12</th>\n",
       "      <td>1.6</td>\n",
       "      <td>22.4</td>\n",
       "      <td>24.8</td>\n",
       "      <td>4.576008</td>\n",
       "      <td>19.006774</td>\n",
       "      <td>22.795963</td>\n",
       "      <td>5.340541</td>\n",
       "      <td>16.014495</td>\n",
       "      <td>22.223713</td>\n",
       "    </tr>\n",
       "    <tr>\n",
       "      <th>13</th>\n",
       "      <td>28.8</td>\n",
       "      <td>28.8</td>\n",
       "      <td>20.8</td>\n",
       "      <td>25.071477</td>\n",
       "      <td>29.409640</td>\n",
       "      <td>21.987312</td>\n",
       "      <td>24.793428</td>\n",
       "      <td>27.374691</td>\n",
       "      <td>19.159920</td>\n",
       "    </tr>\n",
       "    <tr>\n",
       "      <th>14</th>\n",
       "      <td>13.6</td>\n",
       "      <td>22.4</td>\n",
       "      <td>17.6</td>\n",
       "      <td>14.038376</td>\n",
       "      <td>19.387971</td>\n",
       "      <td>16.621997</td>\n",
       "      <td>11.751765</td>\n",
       "      <td>24.163838</td>\n",
       "      <td>18.530297</td>\n",
       "    </tr>\n",
       "    <tr>\n",
       "      <th>15</th>\n",
       "      <td>20.8</td>\n",
       "      <td>16.0</td>\n",
       "      <td>21.6</td>\n",
       "      <td>19.657979</td>\n",
       "      <td>13.734933</td>\n",
       "      <td>19.550515</td>\n",
       "      <td>18.563101</td>\n",
       "      <td>18.187635</td>\n",
       "      <td>21.818260</td>\n",
       "    </tr>\n",
       "    <tr>\n",
       "      <th>16</th>\n",
       "      <td>16.8</td>\n",
       "      <td>4.8</td>\n",
       "      <td>1.6</td>\n",
       "      <td>18.232743</td>\n",
       "      <td>2.497794</td>\n",
       "      <td>3.788652</td>\n",
       "      <td>19.823419</td>\n",
       "      <td>0.324566</td>\n",
       "      <td>4.678216</td>\n",
       "    </tr>\n",
       "    <tr>\n",
       "      <th>17</th>\n",
       "      <td>8.0</td>\n",
       "      <td>25.6</td>\n",
       "      <td>20.0</td>\n",
       "      <td>9.253147</td>\n",
       "      <td>20.877304</td>\n",
       "      <td>21.205211</td>\n",
       "      <td>8.162729</td>\n",
       "      <td>24.317229</td>\n",
       "      <td>22.549615</td>\n",
       "    </tr>\n",
       "    <tr>\n",
       "      <th>18</th>\n",
       "      <td>4.0</td>\n",
       "      <td>28.8</td>\n",
       "      <td>20.8</td>\n",
       "      <td>4.929560</td>\n",
       "      <td>24.021229</td>\n",
       "      <td>20.076077</td>\n",
       "      <td>5.876835</td>\n",
       "      <td>23.300242</td>\n",
       "      <td>19.119302</td>\n",
       "    </tr>\n",
       "    <tr>\n",
       "      <th>19</th>\n",
       "      <td>9.6</td>\n",
       "      <td>14.4</td>\n",
       "      <td>8.8</td>\n",
       "      <td>10.993949</td>\n",
       "      <td>9.994249</td>\n",
       "      <td>10.786586</td>\n",
       "      <td>12.338753</td>\n",
       "      <td>7.268159</td>\n",
       "      <td>8.803173</td>\n",
       "    </tr>\n",
       "  </tbody>\n",
       "</table>\n",
       "</div>"
      ],
      "text/plain": [
       "       0     1     2          3          4          5          6          7  \\\n",
       "0   28.8  14.4  13.6  27.154503  14.223878  14.492896  26.844399  15.310112   \n",
       "1   26.4   8.0  22.4  24.888995   8.759628  20.253365  26.694952   7.588084   \n",
       "2    4.8  16.8   2.4   6.951401  13.489712   3.433338   8.035935  12.627659   \n",
       "3   24.0   5.6  16.8  20.874936   6.340316  18.780720  20.073577  10.815329   \n",
       "4    1.6  22.4  22.4   4.174863  17.749897  18.940935   3.991853  17.652900   \n",
       "5   29.6   1.6  11.2  27.101543  20.317560  18.451793  26.132631  20.764829   \n",
       "6    0.0  13.6   6.4   3.010675   8.823664   6.020386   4.548436   7.176881   \n",
       "7   15.2  20.8  17.6  15.529830  15.920628  18.546304  15.206826  18.730206   \n",
       "8   31.2  18.4   2.4  28.638177  17.297342   6.999802  27.949234  19.340318   \n",
       "9    1.6  11.2   0.0   5.733288   3.387237  -0.077544   6.717855   3.303642   \n",
       "10  11.2  28.8  18.4  12.460715  25.394296  17.144553  13.360688  25.002896   \n",
       "11  18.4  13.6   8.0  19.237000  10.295183   7.812043  19.572168   9.906501   \n",
       "12   1.6  22.4  24.8   4.576008  19.006774  22.795963   5.340541  16.014495   \n",
       "13  28.8  28.8  20.8  25.071477  29.409640  21.987312  24.793428  27.374691   \n",
       "14  13.6  22.4  17.6  14.038376  19.387971  16.621997  11.751765  24.163838   \n",
       "15  20.8  16.0  21.6  19.657979  13.734933  19.550515  18.563101  18.187635   \n",
       "16  16.8   4.8   1.6  18.232743   2.497794   3.788652  19.823419   0.324566   \n",
       "17   8.0  25.6  20.0   9.253147  20.877304  21.205211   8.162729  24.317229   \n",
       "18   4.0  28.8  20.8   4.929560  24.021229  20.076077   5.876835  23.300242   \n",
       "19   9.6  14.4   8.8  10.993949   9.994249  10.786586  12.338753   7.268159   \n",
       "\n",
       "            8  \n",
       "0   13.863695  \n",
       "1   18.285095  \n",
       "2    3.675971  \n",
       "3   21.250360  \n",
       "4   19.199016  \n",
       "5   18.471910  \n",
       "6    6.776904  \n",
       "7   19.537818  \n",
       "8    4.652791  \n",
       "9    1.471152  \n",
       "10  16.813886  \n",
       "11   8.003661  \n",
       "12  22.223713  \n",
       "13  19.159920  \n",
       "14  18.530297  \n",
       "15  21.818260  \n",
       "16   4.678216  \n",
       "17  22.549615  \n",
       "18  19.119302  \n",
       "19   8.803173  "
      ]
     },
     "execution_count": 566,
     "metadata": {},
     "output_type": "execute_result"
    }
   ],
   "source": [
    "df = np.concatenate([y_test.T[:20,:]*10, PCR_preds[:20,:]*10, ANN_pred.T[:20,:] * 10],axis=1)\n",
    "# pd.DataFrame(df).to_excel(\"Mauthuc2.xlsx\")\n",
    "pd.DataFrame(df)"
   ]
  },
  {
   "cell_type": "code",
   "execution_count": null,
   "id": "b00a58f1",
   "metadata": {},
   "outputs": [],
   "source": [
    "weights = pickle.load( open( 'weights.pkl' , 'rb' ))\n",
    "bias = pickle.load( open( 'bias.pkl' , 'rb' ))"
   ]
  },
  {
   "cell_type": "code",
   "execution_count": null,
   "id": "4755f5c9",
   "metadata": {},
   "outputs": [],
   "source": [
    "model2 = ANN_pkg_2.Neural_Network([X_train.shape[0],8, 8,y_train.shape[0]], ANN_pkg_2.ReLU, weights, bias)"
   ]
  },
  {
   "cell_type": "code",
   "execution_count": null,
   "id": "4a766c9e",
   "metadata": {},
   "outputs": [
    {
     "ename": "ValueError",
     "evalue": "shapes (8,31) and (30,33) not aligned: 31 (dim 1) != 30 (dim 0)",
     "output_type": "error",
     "traceback": [
      "\u001b[1;31m---------------------------------------------------------------------------\u001b[0m",
      "\u001b[1;31mValueError\u001b[0m                                Traceback (most recent call last)",
      "\u001b[1;32mc:\\VS_Workspace\\PCR\\PCR copy.ipynb Cell 53\u001b[0m in \u001b[0;36m<cell line: 1>\u001b[1;34m()\u001b[0m\n\u001b[1;32m----> <a href='vscode-notebook-cell:/c%3A/VS_Workspace/PCR/PCR%20copy.ipynb#Y101sZmlsZQ%3D%3D?line=0'>1</a>\u001b[0m model2\u001b[39m.\u001b[39;49mforward(X_test)\u001b[39m.\u001b[39mT \u001b[39m*\u001b[39m \u001b[39m10\u001b[39m\n",
      "File \u001b[1;32mc:\\VS_Workspace\\PCR\\ANN_pkg_2.py:98\u001b[0m, in \u001b[0;36mNeural_Network.forward\u001b[1;34m(self, input)\u001b[0m\n\u001b[0;32m     96\u001b[0m x \u001b[39m=\u001b[39m np\u001b[39m.\u001b[39mcopy(\u001b[39minput\u001b[39m)\n\u001b[0;32m     97\u001b[0m \u001b[39mfor\u001b[39;00m layer \u001b[39min\u001b[39;00m \u001b[39mself\u001b[39m\u001b[39m.\u001b[39mlayers:\n\u001b[1;32m---> 98\u001b[0m     x \u001b[39m=\u001b[39m layer\u001b[39m.\u001b[39;49mforward(x)\n\u001b[0;32m     99\u001b[0m \u001b[39mreturn\u001b[39;00m x\n",
      "File \u001b[1;32mc:\\VS_Workspace\\PCR\\ANN_pkg_2.py:61\u001b[0m, in \u001b[0;36mLayer.forward\u001b[1;34m(self, input_data)\u001b[0m\n\u001b[0;32m     59\u001b[0m \u001b[39mdef\u001b[39;00m \u001b[39mforward\u001b[39m(\u001b[39mself\u001b[39m, input_data):\n\u001b[0;32m     60\u001b[0m     \u001b[39mself\u001b[39m\u001b[39m.\u001b[39mleft_layer_output \u001b[39m=\u001b[39m input_data\n\u001b[1;32m---> 61\u001b[0m     \u001b[39mself\u001b[39m\u001b[39m.\u001b[39minput \u001b[39m=\u001b[39m  np\u001b[39m.\u001b[39;49mdot(\u001b[39mself\u001b[39;49m\u001b[39m.\u001b[39;49mweight, input_data) \u001b[39m+\u001b[39m \u001b[39mself\u001b[39m\u001b[39m.\u001b[39mbias\n\u001b[0;32m     62\u001b[0m     \u001b[39mself\u001b[39m\u001b[39m.\u001b[39moutput \u001b[39m=\u001b[39m \u001b[39mself\u001b[39m\u001b[39m.\u001b[39mactivationForward(\u001b[39mself\u001b[39m\u001b[39m.\u001b[39minput)\n\u001b[0;32m     63\u001b[0m     \u001b[39mreturn\u001b[39;00m \u001b[39mself\u001b[39m\u001b[39m.\u001b[39moutput\n",
      "File \u001b[1;32m<__array_function__ internals>:200\u001b[0m, in \u001b[0;36mdot\u001b[1;34m(*args, **kwargs)\u001b[0m\n",
      "\u001b[1;31mValueError\u001b[0m: shapes (8,31) and (30,33) not aligned: 31 (dim 1) != 30 (dim 0)"
     ]
    }
   ],
   "source": [
    "model2.forward(X_test).T * 10"
   ]
  }
 ],
 "metadata": {
  "kernelspec": {
   "display_name": "Python 3",
   "language": "python",
   "name": "python3"
  },
  "language_info": {
   "codemirror_mode": {
    "name": "ipython",
    "version": 3
   },
   "file_extension": ".py",
   "mimetype": "text/x-python",
   "name": "python",
   "nbconvert_exporter": "python",
   "pygments_lexer": "ipython3",
   "version": "3.10.6"
  },
  "vscode": {
   "interpreter": {
    "hash": "1658d7c139ecb4375ab76a4a9bda7b71499aefd554bc284ea3c47687afb5394a"
   }
  }
 },
 "nbformat": 4,
 "nbformat_minor": 5
}
