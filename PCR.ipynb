{
 "cells": [
  {
   "cell_type": "markdown",
   "id": "5a016e65",
   "metadata": {},
   "source": [
    "### Import data and libraries"
   ]
  },
  {
   "cell_type": "code",
   "execution_count": 92,
   "id": "8336af28",
   "metadata": {},
   "outputs": [],
   "source": [
    "import numpy as np\n",
    "import pickle\n",
    "import pandas as pd\n",
    "import matplotlib.pyplot as plt\n",
    "import ANN_pkg_2\n",
    "from sklearn.preprocessing import scale \n",
    "from sklearn.linear_model import LinearRegression, Ridge, RidgeCV, Lasso, LassoCV\n",
    "from sklearn.model_selection import KFold, cross_val_score, train_test_split\n",
    "from sklearn.metrics import mean_squared_error\n",
    "from sklearn.decomposition import PCA\n",
    "from sklearn.metrics import r2_score"
   ]
  },
  {
   "attachments": {},
   "cell_type": "markdown",
   "id": "d6c4a18f",
   "metadata": {},
   "source": [
    "### DATA PREPARATION "
   ]
  },
  {
   "cell_type": "code",
   "execution_count": 93,
   "id": "b4ef0d70",
   "metadata": {},
   "outputs": [],
   "source": [
    "df = pd.read_excel('mtnd.xlsx').values\n",
    "# df.head(5)"
   ]
  },
  {
   "cell_type": "code",
   "execution_count": 94,
   "metadata": {},
   "outputs": [
    {
     "data": {
      "text/plain": [
       "(169, 35)"
      ]
     },
     "execution_count": 94,
     "metadata": {},
     "output_type": "execute_result"
    }
   ],
   "source": [
    "df.shape"
   ]
  },
  {
   "cell_type": "code",
   "execution_count": 95,
   "id": "76fc452b",
   "metadata": {},
   "outputs": [],
   "source": [
    "X = df[:, 4:]\n",
    "y = df[:, 1:4]\n",
    "#Scale concentration columns\n",
    "y = y / 10"
   ]
  },
  {
   "cell_type": "code",
   "execution_count": 96,
   "id": "7f8a1305",
   "metadata": {},
   "outputs": [
    {
     "data": {
      "text/plain": [
       "array([1.46366864, 1.51242604, 1.28662722])"
      ]
     },
     "execution_count": 96,
     "metadata": {},
     "output_type": "execute_result"
    }
   ],
   "source": [
    "np.mean(y, axis=0)"
   ]
  },
  {
   "cell_type": "markdown",
   "id": "414962ae",
   "metadata": {},
   "source": [
    "#### Train test split"
   ]
  },
  {
   "cell_type": "code",
   "execution_count": 97,
   "id": "2b42fcf2",
   "metadata": {},
   "outputs": [],
   "source": [
    "X_train, X_test, y_train, y_test = train_test_split(X, y, test_size=0.2, random_state=24)"
   ]
  },
  {
   "cell_type": "code",
   "execution_count": 98,
   "id": "da5b31d6",
   "metadata": {},
   "outputs": [],
   "source": [
    "# pd.DataFrame(y_test.T, columns= [\"Guaifenesin\", \"Terbutaline sulfate\", \"Natri benzoate\"]).to_excel(\"test_data.xlsx\")"
   ]
  },
  {
   "cell_type": "code",
   "execution_count": 99,
   "id": "73a9d275",
   "metadata": {},
   "outputs": [
    {
     "data": {
      "text/plain": [
       "(135, 3)"
      ]
     },
     "execution_count": 99,
     "metadata": {},
     "output_type": "execute_result"
    }
   ],
   "source": [
    "y_train.shape"
   ]
  },
  {
   "cell_type": "code",
   "execution_count": 100,
   "id": "d1c469d3",
   "metadata": {},
   "outputs": [],
   "source": [
    "# Run standardization on X variables\n",
    "from sklearn.preprocessing import scale \n",
    "X_train_scaled, X_test_scaled = scale(X_train), scale(X_test)"
   ]
  },
  {
   "cell_type": "code",
   "execution_count": 101,
   "id": "1e69f164",
   "metadata": {},
   "outputs": [
    {
     "data": {
      "text/plain": [
       "array([[0.212, 0.214, 0.217, ..., 0.26 , 0.229, 0.198],\n",
       "       [0.202, 0.203, 0.205, ..., 0.229, 0.206, 0.181],\n",
       "       [0.24 , 0.249, 0.261, ..., 0.349, 0.287, 0.229],\n",
       "       ...,\n",
       "       [0.142, 0.147, 0.153, ..., 0.18 , 0.146, 0.118],\n",
       "       [0.2  , 0.202, 0.205, ..., 0.18 , 0.149, 0.123],\n",
       "       [0.125, 0.131, 0.139, ..., 0.177, 0.147, 0.121]])"
      ]
     },
     "execution_count": 101,
     "metadata": {},
     "output_type": "execute_result"
    }
   ],
   "source": [
    "X_test"
   ]
  },
  {
   "cell_type": "markdown",
   "id": "5e230eef",
   "metadata": {},
   "source": [
    "___\n",
    "### Principal Components Regression"
   ]
  },
  {
   "cell_type": "markdown",
   "id": "a742cc4a",
   "metadata": {},
   "source": [
    "#### Evaluate for different number of principal components"
   ]
  },
  {
   "cell_type": "code",
   "execution_count": 102,
   "id": "900cf52f",
   "metadata": {},
   "outputs": [],
   "source": [
    "rmse_list = []\n",
    "R2_list = []"
   ]
  },
  {
   "cell_type": "code",
   "execution_count": 103,
   "id": "876ec69f",
   "metadata": {},
   "outputs": [
    {
     "data": {
      "text/plain": [
       "(135, 31)"
      ]
     },
     "execution_count": 103,
     "metadata": {},
     "output_type": "execute_result"
    }
   ],
   "source": [
    "# First generate all the principal components\n",
    "pca = PCA()\n",
    "X_train_pc = pca.fit_transform(X_train_scaled)\n",
    "X_train_pc.shape"
   ]
  },
  {
   "cell_type": "code",
   "execution_count": 104,
   "id": "1ca83e36",
   "metadata": {},
   "outputs": [
    {
     "data": {
      "text/html": [
       "<div>\n",
       "<style scoped>\n",
       "    .dataframe tbody tr th:only-of-type {\n",
       "        vertical-align: middle;\n",
       "    }\n",
       "\n",
       "    .dataframe tbody tr th {\n",
       "        vertical-align: top;\n",
       "    }\n",
       "\n",
       "    .dataframe thead th {\n",
       "        text-align: right;\n",
       "    }\n",
       "</style>\n",
       "<table border=\"1\" class=\"dataframe\">\n",
       "  <thead>\n",
       "    <tr style=\"text-align: right;\">\n",
       "      <th></th>\n",
       "      <th>0</th>\n",
       "      <th>1</th>\n",
       "      <th>2</th>\n",
       "      <th>3</th>\n",
       "      <th>4</th>\n",
       "      <th>5</th>\n",
       "      <th>6</th>\n",
       "      <th>7</th>\n",
       "      <th>8</th>\n",
       "      <th>9</th>\n",
       "      <th>...</th>\n",
       "      <th>21</th>\n",
       "      <th>22</th>\n",
       "      <th>23</th>\n",
       "      <th>24</th>\n",
       "      <th>25</th>\n",
       "      <th>26</th>\n",
       "      <th>27</th>\n",
       "      <th>28</th>\n",
       "      <th>29</th>\n",
       "      <th>30</th>\n",
       "    </tr>\n",
       "  </thead>\n",
       "  <tbody>\n",
       "    <tr>\n",
       "      <th>0</th>\n",
       "      <td>-0.167061</td>\n",
       "      <td>0.316580</td>\n",
       "      <td>-0.343716</td>\n",
       "      <td>-0.478789</td>\n",
       "      <td>-0.193773</td>\n",
       "      <td>0.078644</td>\n",
       "      <td>-0.184004</td>\n",
       "      <td>0.272184</td>\n",
       "      <td>-0.003347</td>\n",
       "      <td>-0.293400</td>\n",
       "      <td>...</td>\n",
       "      <td>0.050086</td>\n",
       "      <td>-0.036114</td>\n",
       "      <td>0.009773</td>\n",
       "      <td>0.023844</td>\n",
       "      <td>0.000006</td>\n",
       "      <td>0.031590</td>\n",
       "      <td>0.008048</td>\n",
       "      <td>0.097279</td>\n",
       "      <td>0.011032</td>\n",
       "      <td>-0.020416</td>\n",
       "    </tr>\n",
       "    <tr>\n",
       "      <th>1</th>\n",
       "      <td>-0.170979</td>\n",
       "      <td>0.287177</td>\n",
       "      <td>-0.290011</td>\n",
       "      <td>-0.266302</td>\n",
       "      <td>-0.045809</td>\n",
       "      <td>0.073826</td>\n",
       "      <td>-0.015042</td>\n",
       "      <td>-0.043469</td>\n",
       "      <td>0.234775</td>\n",
       "      <td>0.548707</td>\n",
       "      <td>...</td>\n",
       "      <td>0.061963</td>\n",
       "      <td>0.027241</td>\n",
       "      <td>0.018302</td>\n",
       "      <td>-0.002201</td>\n",
       "      <td>0.027917</td>\n",
       "      <td>-0.045213</td>\n",
       "      <td>0.033104</td>\n",
       "      <td>-0.079480</td>\n",
       "      <td>-0.050264</td>\n",
       "      <td>0.009092</td>\n",
       "    </tr>\n",
       "    <tr>\n",
       "      <th>2</th>\n",
       "      <td>-0.174443</td>\n",
       "      <td>0.255911</td>\n",
       "      <td>-0.234626</td>\n",
       "      <td>-0.085227</td>\n",
       "      <td>0.047237</td>\n",
       "      <td>0.076575</td>\n",
       "      <td>0.085453</td>\n",
       "      <td>-0.053345</td>\n",
       "      <td>-0.074462</td>\n",
       "      <td>-0.084253</td>\n",
       "      <td>...</td>\n",
       "      <td>-0.054813</td>\n",
       "      <td>-0.007039</td>\n",
       "      <td>0.023995</td>\n",
       "      <td>-0.021622</td>\n",
       "      <td>-0.029274</td>\n",
       "      <td>-0.017107</td>\n",
       "      <td>-0.021178</td>\n",
       "      <td>-0.048652</td>\n",
       "      <td>0.061834</td>\n",
       "      <td>0.029429</td>\n",
       "    </tr>\n",
       "  </tbody>\n",
       "</table>\n",
       "<p>3 rows × 31 columns</p>\n",
       "</div>"
      ],
      "text/plain": [
       "         0         1         2         3         4         5         6   \\\n",
       "0 -0.167061  0.316580 -0.343716 -0.478789 -0.193773  0.078644 -0.184004   \n",
       "1 -0.170979  0.287177 -0.290011 -0.266302 -0.045809  0.073826 -0.015042   \n",
       "2 -0.174443  0.255911 -0.234626 -0.085227  0.047237  0.076575  0.085453   \n",
       "\n",
       "         7         8         9   ...        21        22        23        24  \\\n",
       "0  0.272184 -0.003347 -0.293400  ...  0.050086 -0.036114  0.009773  0.023844   \n",
       "1 -0.043469  0.234775  0.548707  ...  0.061963  0.027241  0.018302 -0.002201   \n",
       "2 -0.053345 -0.074462 -0.084253  ... -0.054813 -0.007039  0.023995 -0.021622   \n",
       "\n",
       "         25        26        27        28        29        30  \n",
       "0  0.000006  0.031590  0.008048  0.097279  0.011032 -0.020416  \n",
       "1  0.027917 -0.045213  0.033104 -0.079480 -0.050264  0.009092  \n",
       "2 -0.029274 -0.017107 -0.021178 -0.048652  0.061834  0.029429  \n",
       "\n",
       "[3 rows x 31 columns]"
      ]
     },
     "execution_count": 104,
     "metadata": {},
     "output_type": "execute_result"
    }
   ],
   "source": [
    "# View first 5 rows of all principal components\n",
    "pd.DataFrame(pca.components_.T).loc[:2,:]"
   ]
  },
  {
   "cell_type": "code",
   "execution_count": 105,
   "id": "7eb75aad",
   "metadata": {},
   "outputs": [],
   "source": [
    "# Loop through different count of principal components for linear regression\n",
    "for i in range(1, X_train_pc.shape[1]+1):\n",
    "    # rmse_score = -1 * cross_val_score(lin_reg, \n",
    "    #                                   X_train_pc[:,:i], # Use first k principal components\n",
    "    #                                   y_train, \n",
    "    #                                   cv=cv, \n",
    "    #                                   scoring='neg_mean_squared_error').mean()\n",
    "    # rmse_list.append(rmse_score)\n",
    "    lin_reg = LinearRegression()\n",
    "    lin_reg.fit(X_train_pc[:, :i], y_train)\n",
    "    y_pred = lin_reg.predict(X_train_pc[:, :i])\n",
    "    rmse_list.append(np.sqrt(np.sum(np.square(y_pred - y_train), axis=0) / y_train.shape[0]))\n",
    "    R2_list.append(r2_score(y_train, y_pred))"
   ]
  },
  {
   "cell_type": "code",
   "execution_count": 106,
   "id": "04b6abd6",
   "metadata": {},
   "outputs": [
    {
     "data": {
      "text/plain": [
       "(31, 3)"
      ]
     },
     "execution_count": 106,
     "metadata": {},
     "output_type": "execute_result"
    }
   ],
   "source": [
    "rmse_list=np.array(rmse_list)\n",
    "R2_list = np.array(R2_list).reshape(-1,1)\n",
    "rmse_list.shape"
   ]
  },
  {
   "cell_type": "code",
   "execution_count": 107,
   "id": "138523e5",
   "metadata": {},
   "outputs": [
    {
     "data": {
      "text/plain": [
       "(25, 1)"
      ]
     },
     "execution_count": 107,
     "metadata": {},
     "output_type": "execute_result"
    }
   ],
   "source": [
    "R2_list[6:,:].shape"
   ]
  },
  {
   "cell_type": "code",
   "execution_count": 108,
   "id": "5958066d",
   "metadata": {},
   "outputs": [
    {
     "data": {
      "image/png": "[encoded data removed]",
      "text/plain": [
       "<Figure size 432x288 with 1 Axes>"
      ]
     },
     "metadata": {
      "needs_background": "light"
     },
     "output_type": "display_data"
    }
   ],
   "source": [
    "plt.plot(np.arange(6,31),R2_list[6:,:], \"-o\", color = \"black\")\n",
    "plt.xticks(np.arange(6,32, 5))\n",
    "plt.xlabel(\"Number of PC\")\n",
    "plt.ylabel(\"R square value\")\n",
    "plt.show()"
   ]
  },
  {
   "cell_type": "code",
   "execution_count": 109,
   "id": "b2c4771c",
   "metadata": {
    "scrolled": true
   },
   "outputs": [
    {
     "data": {
      "image/png": "[encoded data removed]",
      "text/plain": [
       "<Figure size 432x288 with 1 Axes>"
      ]
     },
     "metadata": {
      "needs_background": "light"
     },
     "output_type": "display_data"
    }
   ],
   "source": [
    "# Plot RMSE vs count of principal components used\n",
    "plt.plot(rmse_list[:,0], '-^', label='Guaifenesin', color='black')\n",
    "plt.plot(rmse_list[:,1], '-o', label='Terbutaline Sulphate', color='black')\n",
    "plt.plot(rmse_list[:,2], '-s', label='Natri benzoate', color='black')\n",
    "plt.xlabel('Number of principal components in regression')\n",
    "plt.ylabel('Cross-Validation RMSE')\n",
    "plt.title('PCR')\n",
    "plt.xlim(xmin=-1)\n",
    "plt.xticks(np.arange(X_train_pc.shape[1], step=5), np.arange(1, X_train_pc.shape[1]+1, step=5))\n",
    "plt.legend()\n",
    "plt.show()"
   ]
  },
  {
   "cell_type": "code",
   "execution_count": 110,
   "id": "8075d7d3",
   "metadata": {},
   "outputs": [
    {
     "data": {
      "image/png": "[encoded data removed]",
      "text/plain": [
       "<Figure size 432x288 with 1 Axes>"
      ]
     },
     "metadata": {
      "needs_background": "light"
     },
     "output_type": "display_data"
    }
   ],
   "source": [
    "# Plot RMSE vs count of principal components used\n",
    "plt.plot(np.arange(6, 31),rmse_list[6:,:], '-o')\n",
    "plt.plot(np.arange(6, 31),rmse_list[6:,0], '-o', label='Guaifenesin', color='red')\n",
    "plt.plot(np.arange(6, 31),rmse_list[6:,1], '-o', label='Terbutaline Sulphate', color='blue')\n",
    "plt.plot(np.arange(6, 31),rmse_list[6:,2], '-o', label='Natri benzoate', color='Green')\n",
    "plt.xlabel('Number of principal components in regression')\n",
    "plt.ylabel('Cross-Validation RMSE')\n",
    "plt.title('PCR')\n",
    "# plt.xticks(np.arange(6, 31, step=5))\n",
    "plt.legend()\n",
    "# plt.xticks(np.arange(X_train_pc.shape[1] - 6), np.arange(1, X_train_pc.shape[1] - 6))\n",
    "plt.show()"
   ]
  },
  {
   "cell_type": "code",
   "execution_count": 111,
   "id": "45fa00ad",
   "metadata": {},
   "outputs": [],
   "source": [
    "rmse_list = rmse_list.mean(axis=1)"
   ]
  },
  {
   "cell_type": "code",
   "execution_count": 112,
   "id": "22f7fed1",
   "metadata": {},
   "outputs": [
    {
     "data": {
      "text/plain": [
       "(0.10233513544248352, 30)"
      ]
     },
     "execution_count": 112,
     "metadata": {},
     "output_type": "execute_result"
    }
   ],
   "source": [
    "(value,min_index) = min((v,i) for i,v in enumerate(list(rmse_list)))\n",
    "value, min_index"
   ]
  },
  {
   "cell_type": "code",
   "execution_count": 113,
   "id": "2496f10d",
   "metadata": {},
   "outputs": [],
   "source": [
    "# Visually determine optimal number of principal components\n",
    "best_pc_num = min_index + 1"
   ]
  },
  {
   "cell_type": "markdown",
   "id": "e3a5900b",
   "metadata": {},
   "source": [
    "#### Predict"
   ]
  },
  {
   "cell_type": "code",
   "execution_count": 114,
   "id": "6ce87168",
   "metadata": {},
   "outputs": [],
   "source": [
    "# Train model on training set\n",
    "lin_reg_pc = LinearRegression().fit(X_train_pc[:,:best_pc_num], y_train)"
   ]
  },
  {
   "cell_type": "code",
   "execution_count": 115,
   "id": "3b389700",
   "metadata": {},
   "outputs": [
    {
     "data": {
      "text/plain": [
       "0.9858404098088469"
      ]
     },
     "execution_count": 115,
     "metadata": {},
     "output_type": "execute_result"
    }
   ],
   "source": [
    "# R2 score\n",
    "lin_reg_pc.score(X_train_pc[:,:best_pc_num], y_train)"
   ]
  },
  {
   "cell_type": "code",
   "execution_count": 116,
   "id": "2a98f2c7",
   "metadata": {},
   "outputs": [
    {
     "data": {
      "text/plain": [
       "(34, 31)"
      ]
     },
     "execution_count": 116,
     "metadata": {},
     "output_type": "execute_result"
    }
   ],
   "source": [
    "# Get principal components of test set\n",
    "X_test_pc = pca.transform(X_test_scaled)[:,:best_pc_num]\n",
    "X_test_pc.shape"
   ]
  },
  {
   "cell_type": "code",
   "execution_count": 117,
   "id": "7b599740",
   "metadata": {},
   "outputs": [
    {
     "data": {
      "text/plain": [
       "0.14972984141834858"
      ]
     },
     "execution_count": 117,
     "metadata": {},
     "output_type": "execute_result"
    }
   ],
   "source": [
    "# Predict on test data\n",
    "PCR_preds = lin_reg_pc.predict(X_test_pc)\n",
    "pcr_score_test = np.sqrt(np.sum(np.square(PCR_preds - y_test), axis=0) / y_train.shape[0])\n",
    "pcr_score_test.mean()"
   ]
  },
  {
   "cell_type": "code",
   "execution_count": 118,
   "id": "a3119668",
   "metadata": {},
   "outputs": [
    {
     "data": {
      "text/plain": [
       "0.8689620122984388"
      ]
     },
     "execution_count": 118,
     "metadata": {},
     "output_type": "execute_result"
    }
   ],
   "source": [
    "r2_score(y_test, PCR_preds)"
   ]
  },
  {
   "cell_type": "code",
   "execution_count": 119,
   "id": "3f7ae5f0",
   "metadata": {},
   "outputs": [],
   "source": [
    "# preds = lin_reg_pc.predict(X_train_pc)\n",
    "# pcr_score_train = np.sqrt(np.sum(np.square(preds - y_test), axis=0) / y_train.shape[0])\n",
    "# pcr_score_train.mean()"
   ]
  },
  {
   "cell_type": "code",
   "execution_count": 120,
   "id": "a692b285",
   "metadata": {},
   "outputs": [],
   "source": [
    "# mauthuoc = pd.read_excel(\"mauthuoc.xlsx\")\n",
    "# mauthuoc = scale(mauthuoc.iloc[:,1:].values)\n",
    "# mauthuoc = pca.fit_transform(mauthuoc)\n",
    "# # lin_reg_pc.predict(mauthuoc)\n",
    "# mauthuoc.shape"
   ]
  },
  {
   "attachments": {},
   "cell_type": "markdown",
   "id": "23e06aa8",
   "metadata": {},
   "source": [
    "## ANN IMPLEMENT"
   ]
  },
  {
   "cell_type": "code",
   "execution_count": 121,
   "id": "c4724e0d",
   "metadata": {},
   "outputs": [],
   "source": [
    "X_train, X_val, y_train, y_val = train_test_split(X_train, y_train, test_size=0.2, random_state=42)\n",
    "X_train = X_train.T\n",
    "X_test = X_test.T\n",
    "y_train = y_train.T\n",
    "y_test = y_test.T\n",
    "X_val = X_val.T\n",
    "y_val = y_val.T\n"
   ]
  },
  {
   "cell_type": "code",
   "execution_count": 122,
   "id": "e6fed18e",
   "metadata": {},
   "outputs": [],
   "source": [
    "# model = ANN_pkg_2.Neural_Network([X_train.shape[0],8, 8,y_train.shape[0]], ANN_pkg_2.ReLU, weights, bias)\n",
    "model = ANN_pkg_2.Neural_Network([X_train.shape[0],8, 8,y_train.shape[0]], ANN_pkg_2.ReLU)"
   ]
  },
  {
   "cell_type": "code",
   "execution_count": 123,
   "id": "6f2647b4",
   "metadata": {},
   "outputs": [],
   "source": [
    "epochs = 230000"
   ]
  },
  {
   "cell_type": "code",
   "execution_count": 124,
   "id": "9cad67fe",
   "metadata": {},
   "outputs": [
    {
     "name": "stdout",
     "output_type": "stream",
     "text": [
      "Loading 10.0%\n",
      "Loading 20.0%\n",
      "Loading 30.0%\n",
      "Loading 40.0%\n",
      "Loading 50.0%\n",
      "Loading 60.0%\n",
      "Loading 70.0%\n",
      "Loading 80.0%\n",
      "Loading 90.0%\n",
      "Loading 100.0%\n",
      "Learning process completed!!!\n"
     ]
    }
   ],
   "source": [
    "model.fit(X_train, y_train, X_val, y_val, learning_rate = 0.04, alpha = 0, epochs = epochs, lr_down=True, lr_decay=100)\n"
   ]
  },
  {
   "cell_type": "code",
   "execution_count": 125,
   "id": "51522a30",
   "metadata": {},
   "outputs": [
    {
     "data": {
      "text/html": [
       "<div>\n",
       "<style scoped>\n",
       "    .dataframe tbody tr th:only-of-type {\n",
       "        vertical-align: middle;\n",
       "    }\n",
       "\n",
       "    .dataframe tbody tr th {\n",
       "        vertical-align: top;\n",
       "    }\n",
       "\n",
       "    .dataframe thead th {\n",
       "        text-align: right;\n",
       "    }\n",
       "</style>\n",
       "<table border=\"1\" class=\"dataframe\">\n",
       "  <thead>\n",
       "    <tr style=\"text-align: right;\">\n",
       "      <th></th>\n",
       "    </tr>\n",
       "  </thead>\n",
       "  <tbody>\n",
       "  </tbody>\n",
       "</table>\n",
       "</div>"
      ],
      "text/plain": [
       "Empty DataFrame\n",
       "Columns: []\n",
       "Index: []"
      ]
     },
     "execution_count": 125,
     "metadata": {},
     "output_type": "execute_result"
    }
   ],
   "source": [
    "pd.DataFrame()"
   ]
  },
  {
   "cell_type": "code",
   "execution_count": 126,
   "id": "2f38c356",
   "metadata": {},
   "outputs": [
    {
     "data": {
      "text/plain": [
       "<matplotlib.legend.Legend at 0x1fc66171360>"
      ]
     },
     "execution_count": 126,
     "metadata": {},
     "output_type": "execute_result"
    },
    {
     "data": {
      "image/png": "[encoded data removed]",
      "text/plain": [
       "<Figure size 432x288 with 1 Axes>"
      ]
     },
     "metadata": {
      "needs_background": "light"
     },
     "output_type": "display_data"
    }
   ],
   "source": [
    "plt.plot(np.sqrt(model.cost_his), label = \"Train data\")\n",
    "plt.plot(np.sqrt(model.test_cost_his), label = \"Validate data\")\n",
    "# plt.xticks(np.arange(epo))\n",
    "plt.xlabel(\"Number of epochs\")  \n",
    "plt.ylabel(\"RMSE value\")\n",
    "plt.legend(loc=\"upper right\")"
   ]
  },
  {
   "cell_type": "code",
   "execution_count": 127,
   "id": "3bce2d39",
   "metadata": {},
   "outputs": [
    {
     "name": "stdout",
     "output_type": "stream",
     "text": [
      "0.22492798547048679\n",
      "0.3274851838530633\n"
     ]
    }
   ],
   "source": [
    "print(np.sqrt(model.cost_his[-1]))\n",
    "print(np.sqrt(model.test_cost_his[-1]))"
   ]
  },
  {
   "cell_type": "code",
   "execution_count": 128,
   "id": "9fb99e02",
   "metadata": {},
   "outputs": [
    {
     "data": {
      "image/png": "[encoded data removed]",
      "text/plain": [
       "<Figure size 432x288 with 1 Axes>"
      ]
     },
     "metadata": {
      "needs_background": "light"
     },
     "output_type": "display_data"
    }
   ],
   "source": [
    "ANN_pred = model.forward(X_test)\n",
    "plt.plot(ANN_pred[0,:].T, y_test[0,:].T, \"^\", label = \"Guaifenesin\", color = \"black\", fillstyle='none')\n",
    "plt.plot(ANN_pred[1,:].T, y_test[1,:].T, \"o\", label = \"Terbutaline Sulfate\", color = \"black\", fillstyle='none')\n",
    "plt.plot(ANN_pred[2,:].T, y_test[2,:].T, \"s\", label = \"Natri benzoate\", color = \"black\", fillstyle='none')\n",
    "plt.legend(bbox_to_anchor=(1, 1))\n",
    "plt.xlabel(\"Test data\")\n",
    "plt.ylabel(\"Predict data\")\n",
    "plt.xticks(np.arange(3.5, step=0.5))\n",
    "plt.yticks(np.arange(3.5, step=0.5))\n",
    "ax = plt.gca()\n",
    "ax.set_aspect('equal', adjustable='box')\n",
    "ax.plot([0, 1], [0, 1], transform=ax.transAxes, color = \"black\")\n",
    "plt.title(f\"Test - R square = {r2_score(y_test.T, ANN_pred.T)}\")\n",
    "plt.show()"
   ]
  },
  {
   "cell_type": "code",
   "execution_count": 129,
   "id": "7577aed5",
   "metadata": {},
   "outputs": [
    {
     "data": {
      "image/png": "[encoded data removed]",
      "text/plain": [
       "<Figure size 432x288 with 1 Axes>"
      ]
     },
     "metadata": {
      "needs_background": "light"
     },
     "output_type": "display_data"
    }
   ],
   "source": [
    "y_pred = model.forward(X_train)\n",
    "# y_train.shape\n",
    "plt.plot(y_pred[0,:].T, y_train[0,:].T, \"^\", label = \"Guaifenesin\", color = \"black\", fillstyle='none')\n",
    "plt.plot(y_pred[1,:].T, y_train[1,:].T, \"o\", label = \"Terbutaline Sulfate\", color = \"black\", fillstyle='none')\n",
    "plt.plot(y_pred[2,:].T, y_train[2,:].T, \"s\", label = \"Natri benzoate\", color = \"black\", fillstyle='none')\n",
    "plt.legend(bbox_to_anchor=(1, 1))\n",
    "plt.xlabel(\"Train data\")\n",
    "plt.ylabel(\"Predict data\")\n",
    "plt.xticks(np.arange(3.5, step=0.5))\n",
    "plt.yticks(np.arange(3.5, step=0.5))\n",
    "ax = plt.gca()\n",
    "ax.set_aspect('equal', adjustable='box')\n",
    "ax.plot([0, 1], [0, 1], transform=ax.transAxes, color = \"black\")\n",
    "plt.title(f\"Train - R square = {r2_score(y_train.T, y_pred.T)}\")\n",
    "plt.show()"
   ]
  },
  {
   "cell_type": "code",
   "execution_count": 130,
   "id": "c72ce4d6",
   "metadata": {},
   "outputs": [
    {
     "data": {
      "image/png": "[encoded data removed]",
      "text/plain": [
       "<Figure size 432x288 with 1 Axes>"
      ]
     },
     "metadata": {
      "needs_background": "light"
     },
     "output_type": "display_data"
    }
   ],
   "source": [
    "y_pred = model.forward(X_val)\n",
    "# y_val.shape\n",
    "plt.plot(y_pred[0,:].T, y_val[0,:].T, \"^\", label = \"Guaifenesin\", color = \"black\", fillstyle='none')\n",
    "plt.plot(y_pred[1,:].T, y_val[1,:].T, \"o\", label = \"Terbutaline Sulfate\", color = \"black\", fillstyle='none')\n",
    "plt.plot(y_pred[2,:].T, y_val[2,:].T, \"s\", label = \"Natri benzoate\", color = \"black\", fillstyle='none')\n",
    "plt.legend(bbox_to_anchor=(1, 1))\n",
    "plt.xlabel(\"Validate data\")\n",
    "plt.ylabel(\"Predict data\")\n",
    "plt.xticks(np.arange(3.5, step=0.5))\n",
    "plt.yticks(np.arange(3.5, step=0.5))\n",
    "ax = plt.gca()\n",
    "ax.set_aspect('equal', adjustable='box')\n",
    "ax.plot([0, 1], [0, 1], transform=ax.transAxes, color = \"black\")\n",
    "plt.title(f\"Validate - R square = {r2_score(y_val.T, y_pred.T)}\")\n",
    "plt.show()"
   ]
  },
  {
   "cell_type": "code",
   "execution_count": 131,
   "id": "af1e870c",
   "metadata": {},
   "outputs": [],
   "source": [
    "mauthuoc = pd.read_excel(\"mauthuoc.xlsx\")\n",
    "mauthuoc = mauthuoc.iloc[:,1:].values / 10\n",
    "mauthuoc = mauthuoc.T"
   ]
  },
  {
   "cell_type": "code",
   "execution_count": 132,
   "id": "0318e7cc",
   "metadata": {},
   "outputs": [
    {
     "data": {
      "text/plain": [
       "array([[4.18555825, 0.24022764, 1.14834709],\n",
       "       [4.18555825, 0.24022764, 1.14834709],\n",
       "       [4.18555825, 0.24022764, 1.14834709],\n",
       "       [4.18555825, 0.24022764, 1.14834709],\n",
       "       [4.18555825, 0.24022764, 1.14834709],\n",
       "       [4.18555825, 0.24022764, 1.14834709],\n",
       "       [4.18555825, 0.24022764, 1.14834709],\n",
       "       [4.18555825, 0.24022764, 1.14834709],\n",
       "       [4.18555825, 0.24022764, 1.14834709],\n",
       "       [4.18555825, 0.24022764, 1.14834709],\n",
       "       [4.18555825, 0.24022764, 1.14834709]])"
      ]
     },
     "execution_count": 132,
     "metadata": {},
     "output_type": "execute_result"
    }
   ],
   "source": [
    "model.forward(mauthuoc).T[:20, :] * 10\n",
    "# GF: 33.25\n",
    "# TBS: 0.75\n",
    "# NaB: 5"
   ]
  },
  {
   "cell_type": "code",
   "execution_count": 133,
   "id": "7e2ad164",
   "metadata": {},
   "outputs": [
    {
     "data": {
      "text/html": [
       "<div>\n",
       "<style scoped>\n",
       "    .dataframe tbody tr th:only-of-type {\n",
       "        vertical-align: middle;\n",
       "    }\n",
       "\n",
       "    .dataframe tbody tr th {\n",
       "        vertical-align: top;\n",
       "    }\n",
       "\n",
       "    .dataframe thead th {\n",
       "        text-align: right;\n",
       "    }\n",
       "</style>\n",
       "<table border=\"1\" class=\"dataframe\">\n",
       "  <thead>\n",
       "    <tr style=\"text-align: right;\">\n",
       "      <th></th>\n",
       "      <th>0</th>\n",
       "      <th>1</th>\n",
       "      <th>2</th>\n",
       "      <th>3</th>\n",
       "      <th>4</th>\n",
       "      <th>5</th>\n",
       "      <th>6</th>\n",
       "      <th>7</th>\n",
       "      <th>8</th>\n",
       "    </tr>\n",
       "  </thead>\n",
       "  <tbody>\n",
       "    <tr>\n",
       "      <th>0</th>\n",
       "      <td>8.0</td>\n",
       "      <td>25.6</td>\n",
       "      <td>20.0</td>\n",
       "      <td>10.989070</td>\n",
       "      <td>24.683757</td>\n",
       "      <td>21.801563</td>\n",
       "      <td>7.696417</td>\n",
       "      <td>25.135077</td>\n",
       "      <td>23.082590</td>\n",
       "    </tr>\n",
       "    <tr>\n",
       "      <th>1</th>\n",
       "      <td>5.6</td>\n",
       "      <td>18.4</td>\n",
       "      <td>20.8</td>\n",
       "      <td>8.119092</td>\n",
       "      <td>20.323229</td>\n",
       "      <td>20.171227</td>\n",
       "      <td>4.479608</td>\n",
       "      <td>21.279144</td>\n",
       "      <td>21.792595</td>\n",
       "    </tr>\n",
       "    <tr>\n",
       "      <th>2</th>\n",
       "      <td>29.6</td>\n",
       "      <td>1.6</td>\n",
       "      <td>11.2</td>\n",
       "      <td>32.766270</td>\n",
       "      <td>22.465135</td>\n",
       "      <td>18.748346</td>\n",
       "      <td>29.668340</td>\n",
       "      <td>21.865938</td>\n",
       "      <td>19.034990</td>\n",
       "    </tr>\n",
       "    <tr>\n",
       "      <th>3</th>\n",
       "      <td>20.8</td>\n",
       "      <td>12.8</td>\n",
       "      <td>14.4</td>\n",
       "      <td>23.695162</td>\n",
       "      <td>12.340803</td>\n",
       "      <td>14.355736</td>\n",
       "      <td>20.224122</td>\n",
       "      <td>15.947589</td>\n",
       "      <td>14.940774</td>\n",
       "    </tr>\n",
       "    <tr>\n",
       "      <th>4</th>\n",
       "      <td>0.0</td>\n",
       "      <td>0.0</td>\n",
       "      <td>0.0</td>\n",
       "      <td>3.159916</td>\n",
       "      <td>1.516749</td>\n",
       "      <td>-1.985880</td>\n",
       "      <td>0.166111</td>\n",
       "      <td>0.176588</td>\n",
       "      <td>0.183454</td>\n",
       "    </tr>\n",
       "    <tr>\n",
       "      <th>5</th>\n",
       "      <td>4.8</td>\n",
       "      <td>16.8</td>\n",
       "      <td>2.4</td>\n",
       "      <td>6.752762</td>\n",
       "      <td>21.221964</td>\n",
       "      <td>3.607982</td>\n",
       "      <td>4.633845</td>\n",
       "      <td>17.876479</td>\n",
       "      <td>2.130939</td>\n",
       "    </tr>\n",
       "    <tr>\n",
       "      <th>6</th>\n",
       "      <td>21.6</td>\n",
       "      <td>30.4</td>\n",
       "      <td>0.0</td>\n",
       "      <td>24.658491</td>\n",
       "      <td>30.321944</td>\n",
       "      <td>-0.447245</td>\n",
       "      <td>21.462574</td>\n",
       "      <td>30.311239</td>\n",
       "      <td>0.150031</td>\n",
       "    </tr>\n",
       "    <tr>\n",
       "      <th>7</th>\n",
       "      <td>24.8</td>\n",
       "      <td>25.6</td>\n",
       "      <td>20.0</td>\n",
       "      <td>27.412219</td>\n",
       "      <td>27.527115</td>\n",
       "      <td>22.322619</td>\n",
       "      <td>25.030033</td>\n",
       "      <td>24.338422</td>\n",
       "      <td>22.277313</td>\n",
       "    </tr>\n",
       "    <tr>\n",
       "      <th>8</th>\n",
       "      <td>0.0</td>\n",
       "      <td>0.0</td>\n",
       "      <td>0.0</td>\n",
       "      <td>2.144657</td>\n",
       "      <td>2.084344</td>\n",
       "      <td>0.348605</td>\n",
       "      <td>0.089131</td>\n",
       "      <td>0.222471</td>\n",
       "      <td>0.106090</td>\n",
       "    </tr>\n",
       "    <tr>\n",
       "      <th>9</th>\n",
       "      <td>30.4</td>\n",
       "      <td>6.4</td>\n",
       "      <td>10.4</td>\n",
       "      <td>33.015390</td>\n",
       "      <td>7.981194</td>\n",
       "      <td>13.928546</td>\n",
       "      <td>30.649956</td>\n",
       "      <td>8.871984</td>\n",
       "      <td>10.203887</td>\n",
       "    </tr>\n",
       "    <tr>\n",
       "      <th>10</th>\n",
       "      <td>8.0</td>\n",
       "      <td>9.6</td>\n",
       "      <td>14.4</td>\n",
       "      <td>11.400932</td>\n",
       "      <td>9.597396</td>\n",
       "      <td>14.584826</td>\n",
       "      <td>9.148485</td>\n",
       "      <td>9.844746</td>\n",
       "      <td>11.906141</td>\n",
       "    </tr>\n",
       "    <tr>\n",
       "      <th>11</th>\n",
       "      <td>28.8</td>\n",
       "      <td>12.8</td>\n",
       "      <td>10.4</td>\n",
       "      <td>31.501548</td>\n",
       "      <td>14.934883</td>\n",
       "      <td>11.027981</td>\n",
       "      <td>28.697408</td>\n",
       "      <td>14.836493</td>\n",
       "      <td>10.978808</td>\n",
       "    </tr>\n",
       "    <tr>\n",
       "      <th>12</th>\n",
       "      <td>12.0</td>\n",
       "      <td>0.0</td>\n",
       "      <td>15.2</td>\n",
       "      <td>14.486866</td>\n",
       "      <td>1.251257</td>\n",
       "      <td>17.244448</td>\n",
       "      <td>11.805235</td>\n",
       "      <td>1.457902</td>\n",
       "      <td>16.515330</td>\n",
       "    </tr>\n",
       "    <tr>\n",
       "      <th>13</th>\n",
       "      <td>0.0</td>\n",
       "      <td>13.6</td>\n",
       "      <td>6.4</td>\n",
       "      <td>2.176700</td>\n",
       "      <td>17.078436</td>\n",
       "      <td>6.161625</td>\n",
       "      <td>-0.261274</td>\n",
       "      <td>14.463707</td>\n",
       "      <td>5.989014</td>\n",
       "    </tr>\n",
       "    <tr>\n",
       "      <th>14</th>\n",
       "      <td>19.2</td>\n",
       "      <td>14.4</td>\n",
       "      <td>0.8</td>\n",
       "      <td>22.542237</td>\n",
       "      <td>14.692024</td>\n",
       "      <td>1.365518</td>\n",
       "      <td>18.875949</td>\n",
       "      <td>14.233440</td>\n",
       "      <td>1.375278</td>\n",
       "    </tr>\n",
       "    <tr>\n",
       "      <th>15</th>\n",
       "      <td>9.6</td>\n",
       "      <td>21.6</td>\n",
       "      <td>16.8</td>\n",
       "      <td>11.620259</td>\n",
       "      <td>23.547005</td>\n",
       "      <td>19.343357</td>\n",
       "      <td>9.663170</td>\n",
       "      <td>23.999925</td>\n",
       "      <td>18.403767</td>\n",
       "    </tr>\n",
       "    <tr>\n",
       "      <th>16</th>\n",
       "      <td>5.6</td>\n",
       "      <td>22.4</td>\n",
       "      <td>8.0</td>\n",
       "      <td>10.003112</td>\n",
       "      <td>24.238903</td>\n",
       "      <td>7.273706</td>\n",
       "      <td>6.424371</td>\n",
       "      <td>21.872698</td>\n",
       "      <td>7.874652</td>\n",
       "    </tr>\n",
       "    <tr>\n",
       "      <th>17</th>\n",
       "      <td>6.4</td>\n",
       "      <td>15.2</td>\n",
       "      <td>9.6</td>\n",
       "      <td>9.764720</td>\n",
       "      <td>14.499833</td>\n",
       "      <td>7.472053</td>\n",
       "      <td>6.354450</td>\n",
       "      <td>15.878673</td>\n",
       "      <td>8.668495</td>\n",
       "    </tr>\n",
       "    <tr>\n",
       "      <th>18</th>\n",
       "      <td>12.0</td>\n",
       "      <td>18.4</td>\n",
       "      <td>20.0</td>\n",
       "      <td>15.556551</td>\n",
       "      <td>19.368180</td>\n",
       "      <td>19.023132</td>\n",
       "      <td>12.956657</td>\n",
       "      <td>19.125037</td>\n",
       "      <td>19.620069</td>\n",
       "    </tr>\n",
       "    <tr>\n",
       "      <th>19</th>\n",
       "      <td>7.2</td>\n",
       "      <td>19.2</td>\n",
       "      <td>23.2</td>\n",
       "      <td>10.737890</td>\n",
       "      <td>19.701819</td>\n",
       "      <td>23.665469</td>\n",
       "      <td>7.203340</td>\n",
       "      <td>21.682609</td>\n",
       "      <td>22.544885</td>\n",
       "    </tr>\n",
       "  </tbody>\n",
       "</table>\n",
       "</div>"
      ],
      "text/plain": [
       "       0     1     2          3          4          5          6          7  \\\n",
       "0    8.0  25.6  20.0  10.989070  24.683757  21.801563   7.696417  25.135077   \n",
       "1    5.6  18.4  20.8   8.119092  20.323229  20.171227   4.479608  21.279144   \n",
       "2   29.6   1.6  11.2  32.766270  22.465135  18.748346  29.668340  21.865938   \n",
       "3   20.8  12.8  14.4  23.695162  12.340803  14.355736  20.224122  15.947589   \n",
       "4    0.0   0.0   0.0   3.159916   1.516749  -1.985880   0.166111   0.176588   \n",
       "5    4.8  16.8   2.4   6.752762  21.221964   3.607982   4.633845  17.876479   \n",
       "6   21.6  30.4   0.0  24.658491  30.321944  -0.447245  21.462574  30.311239   \n",
       "7   24.8  25.6  20.0  27.412219  27.527115  22.322619  25.030033  24.338422   \n",
       "8    0.0   0.0   0.0   2.144657   2.084344   0.348605   0.089131   0.222471   \n",
       "9   30.4   6.4  10.4  33.015390   7.981194  13.928546  30.649956   8.871984   \n",
       "10   8.0   9.6  14.4  11.400932   9.597396  14.584826   9.148485   9.844746   \n",
       "11  28.8  12.8  10.4  31.501548  14.934883  11.027981  28.697408  14.836493   \n",
       "12  12.0   0.0  15.2  14.486866   1.251257  17.244448  11.805235   1.457902   \n",
       "13   0.0  13.6   6.4   2.176700  17.078436   6.161625  -0.261274  14.463707   \n",
       "14  19.2  14.4   0.8  22.542237  14.692024   1.365518  18.875949  14.233440   \n",
       "15   9.6  21.6  16.8  11.620259  23.547005  19.343357   9.663170  23.999925   \n",
       "16   5.6  22.4   8.0  10.003112  24.238903   7.273706   6.424371  21.872698   \n",
       "17   6.4  15.2   9.6   9.764720  14.499833   7.472053   6.354450  15.878673   \n",
       "18  12.0  18.4  20.0  15.556551  19.368180  19.023132  12.956657  19.125037   \n",
       "19   7.2  19.2  23.2  10.737890  19.701819  23.665469   7.203340  21.682609   \n",
       "\n",
       "            8  \n",
       "0   23.082590  \n",
       "1   21.792595  \n",
       "2   19.034990  \n",
       "3   14.940774  \n",
       "4    0.183454  \n",
       "5    2.130939  \n",
       "6    0.150031  \n",
       "7   22.277313  \n",
       "8    0.106090  \n",
       "9   10.203887  \n",
       "10  11.906141  \n",
       "11  10.978808  \n",
       "12  16.515330  \n",
       "13   5.989014  \n",
       "14   1.375278  \n",
       "15  18.403767  \n",
       "16   7.874652  \n",
       "17   8.668495  \n",
       "18  19.620069  \n",
       "19  22.544885  "
      ]
     },
     "execution_count": 133,
     "metadata": {},
     "output_type": "execute_result"
    }
   ],
   "source": [
    "df = np.concatenate([y_test.T[:20,:]*10, PCR_preds[:20,:]*10, ANN_pred.T[:20,:] * 10],axis=1)\n",
    "# pd.DataFrame(df).to_excel(\"Mauthuc2.xlsx\")\n",
    "pd.DataFrame(df)"
   ]
  },
  {
   "cell_type": "code",
   "execution_count": 134,
   "id": "b00a58f1",
   "metadata": {},
   "outputs": [],
   "source": [
    "# weights = pickle.load( open( 'weights.pkl' , 'rb' ))\n",
    "# bias = pickle.load( open( 'bias.pkl' , 'rb' ))"
   ]
  },
  {
   "cell_type": "code",
   "execution_count": 135,
   "id": "4755f5c9",
   "metadata": {},
   "outputs": [],
   "source": [
    "# model2 = ANN_pkg_2.Neural_Network([X_train.shape[0],8, 8,y_train.shape[0]], ANN_pkg_2.ReLU, weights, bias)"
   ]
  },
  {
   "cell_type": "code",
   "execution_count": 136,
   "id": "4a766c9e",
   "metadata": {},
   "outputs": [],
   "source": [
    "# model2.forward(X_test).T * 10"
   ]
  }
 ],
 "metadata": {
  "kernelspec": {
   "display_name": "Python 3",
   "language": "python",
   "name": "python3"
  },
  "language_info": {
   "codemirror_mode": {
    "name": "ipython",
    "version": 3
   },
   "file_extension": ".py",
   "mimetype": "text/x-python",
   "name": "python",
   "nbconvert_exporter": "python",
   "pygments_lexer": "ipython3",
   "version": "3.10.6"
  },
  "vscode": {
   "interpreter": {
    "hash": "1658d7c139ecb4375ab76a4a9bda7b71499aefd554bc284ea3c47687afb5394a"
   }
  }
 },
 "nbformat": 4,
 "nbformat_minor": 5
}
